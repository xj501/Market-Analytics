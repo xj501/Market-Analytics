{
 "cells": [
  {
   "cell_type": "code",
   "execution_count": 1,
   "id": "dafe58f0",
   "metadata": {},
   "outputs": [],
   "source": [
    "import pandas as pd\n",
    "import numpy as np\n",
    "import matplotlib.pyplot as plt\n",
    "from dateutil.parser import parse\n",
    "import statsmodels.api as sm\n",
    "from sklearn.metrics import confusion_matrix\n",
    "from sklearn import model_selection\n",
    "import matplotlib.pyplot as plt\n",
    "import copy\n",
    "import math"
   ]
  },
  {
   "cell_type": "code",
   "execution_count": 2,
   "id": "8c07bf82",
   "metadata": {},
   "outputs": [],
   "source": [
    "pd.set_option('display.max_columns',None)"
   ]
  },
  {
   "cell_type": "markdown",
   "id": "c6f98b64",
   "metadata": {},
   "source": [
    "# Import Data"
   ]
  },
  {
   "cell_type": "markdown",
   "id": "edb84475",
   "metadata": {},
   "source": [
    "### Table 1: Subscribers"
   ]
  },
  {
   "cell_type": "code",
   "execution_count": 3,
   "id": "2f8d3e2e",
   "metadata": {},
   "outputs": [],
   "source": [
    "df_sub = pd.read_csv(\"subscribers.csv\")"
   ]
  },
  {
   "cell_type": "code",
   "execution_count": 4,
   "id": "b8a087a3",
   "metadata": {},
   "outputs": [
    {
     "data": {
      "text/plain": [
       "(227628, 31)"
      ]
     },
     "execution_count": 4,
     "metadata": {},
     "output_type": "execute_result"
    }
   ],
   "source": [
    "df_sub.shape"
   ]
  },
  {
   "cell_type": "markdown",
   "id": "7f72612c",
   "metadata": {},
   "source": [
    "### Table 2: Engagement"
   ]
  },
  {
   "cell_type": "code",
   "execution_count": 5,
   "id": "4a2f07db",
   "metadata": {},
   "outputs": [],
   "source": [
    "df_en = pd.read_pickle(\"engagement\")"
   ]
  },
  {
   "cell_type": "code",
   "execution_count": 6,
   "id": "c776655c",
   "metadata": {},
   "outputs": [
    {
     "data": {
      "text/plain": [
       "(2585724, 9)"
      ]
     },
     "execution_count": 6,
     "metadata": {},
     "output_type": "execute_result"
    }
   ],
   "source": [
    "df_en.shape"
   ]
  },
  {
   "cell_type": "markdown",
   "id": "1de44c83",
   "metadata": {},
   "source": [
    "### Table 3: Customer Service Reps"
   ]
  },
  {
   "cell_type": "code",
   "execution_count": 7,
   "id": "8326ffcb",
   "metadata": {},
   "outputs": [],
   "source": [
    "df_rep = pd.read_pickle(\"customer_service_reps\")"
   ]
  },
  {
   "cell_type": "code",
   "execution_count": 8,
   "id": "03bb7ad1",
   "metadata": {},
   "outputs": [
    {
     "data": {
      "text/plain": [
       "(2208643, 13)"
      ]
     },
     "execution_count": 8,
     "metadata": {},
     "output_type": "execute_result"
    }
   ],
   "source": [
    "df_rep.shape"
   ]
  },
  {
   "cell_type": "markdown",
   "id": "087fb42d",
   "metadata": {},
   "source": [
    "### Table 4: Ad Channel"
   ]
  },
  {
   "cell_type": "code",
   "execution_count": 9,
   "id": "9b68707e",
   "metadata": {},
   "outputs": [],
   "source": [
    "df_ad = pd.read_csv(\"channel_spend_graduate.csv\")"
   ]
  },
  {
   "cell_type": "code",
   "execution_count": 10,
   "id": "57122f58",
   "metadata": {},
   "outputs": [
    {
     "data": {
      "text/plain": [
       "(40, 3)"
      ]
     },
     "execution_count": 10,
     "metadata": {},
     "output_type": "execute_result"
    }
   ],
   "source": [
    "df_ad.shape"
   ]
  },
  {
   "cell_type": "markdown",
   "id": "c07c6f09",
   "metadata": {},
   "source": [
    "# Attribution and Allocation"
   ]
  },
  {
   "cell_type": "markdown",
   "id": "72a69fa3",
   "metadata": {},
   "source": [
    "### Attribution Technical"
   ]
  },
  {
   "cell_type": "code",
   "execution_count": 11,
   "id": "61bdd903",
   "metadata": {},
   "outputs": [
    {
     "data": {
      "text/html": [
       "<div>\n",
       "<style scoped>\n",
       "    .dataframe tbody tr th:only-of-type {\n",
       "        vertical-align: middle;\n",
       "    }\n",
       "\n",
       "    .dataframe tbody tr th {\n",
       "        vertical-align: top;\n",
       "    }\n",
       "\n",
       "    .dataframe thead th {\n",
       "        text-align: right;\n",
       "    }\n",
       "</style>\n",
       "<table border=\"1\" class=\"dataframe\">\n",
       "  <thead>\n",
       "    <tr style=\"text-align: right;\">\n",
       "      <th>date</th>\n",
       "      <th>201907</th>\n",
       "      <th>201908</th>\n",
       "      <th>201909</th>\n",
       "      <th>201910</th>\n",
       "      <th>201911</th>\n",
       "      <th>201912</th>\n",
       "      <th>202001</th>\n",
       "      <th>202002</th>\n",
       "    </tr>\n",
       "    <tr>\n",
       "      <th>channel</th>\n",
       "      <th></th>\n",
       "      <th></th>\n",
       "      <th></th>\n",
       "      <th></th>\n",
       "      <th></th>\n",
       "      <th></th>\n",
       "      <th></th>\n",
       "      <th></th>\n",
       "    </tr>\n",
       "  </thead>\n",
       "  <tbody>\n",
       "    <tr>\n",
       "      <th>bing</th>\n",
       "      <td>400</td>\n",
       "      <td>900</td>\n",
       "      <td>1000</td>\n",
       "      <td>1100</td>\n",
       "      <td>1300</td>\n",
       "      <td>300</td>\n",
       "      <td>2100</td>\n",
       "      <td>3700</td>\n",
       "    </tr>\n",
       "    <tr>\n",
       "      <th>display</th>\n",
       "      <td>12</td>\n",
       "      <td>20</td>\n",
       "      <td>13</td>\n",
       "      <td>19</td>\n",
       "      <td>29</td>\n",
       "      <td>31</td>\n",
       "      <td>148</td>\n",
       "      <td>94</td>\n",
       "    </tr>\n",
       "    <tr>\n",
       "      <th>facebook</th>\n",
       "      <td>9000</td>\n",
       "      <td>13000</td>\n",
       "      <td>10500</td>\n",
       "      <td>17000</td>\n",
       "      <td>23000</td>\n",
       "      <td>16000</td>\n",
       "      <td>11000</td>\n",
       "      <td>14000</td>\n",
       "    </tr>\n",
       "    <tr>\n",
       "      <th>search</th>\n",
       "      <td>13000</td>\n",
       "      <td>18500</td>\n",
       "      <td>19000</td>\n",
       "      <td>24000</td>\n",
       "      <td>25000</td>\n",
       "      <td>38000</td>\n",
       "      <td>41000</td>\n",
       "      <td>44000</td>\n",
       "    </tr>\n",
       "    <tr>\n",
       "      <th>youtube</th>\n",
       "      <td>90</td>\n",
       "      <td>180</td>\n",
       "      <td>100</td>\n",
       "      <td>130</td>\n",
       "      <td>550</td>\n",
       "      <td>900</td>\n",
       "      <td>4360</td>\n",
       "      <td>2420</td>\n",
       "    </tr>\n",
       "  </tbody>\n",
       "</table>\n",
       "</div>"
      ],
      "text/plain": [
       "date      201907  201908  201909  201910  201911  201912  202001  202002\n",
       "channel                                                                 \n",
       "bing         400     900    1000    1100    1300     300    2100    3700\n",
       "display       12      20      13      19      29      31     148      94\n",
       "facebook    9000   13000   10500   17000   23000   16000   11000   14000\n",
       "search     13000   18500   19000   24000   25000   38000   41000   44000\n",
       "youtube       90     180     100     130     550     900    4360    2420"
      ]
     },
     "execution_count": 11,
     "metadata": {},
     "output_type": "execute_result"
    }
   ],
   "source": [
    "# Create Channel List\n",
    "df_channel = df_ad.pivot_table(values = 'spend_AED', columns = 'date', index = 'channel', aggfunc = np.sum)\n",
    "df_channel"
   ]
  },
  {
   "cell_type": "code",
   "execution_count": 12,
   "id": "c4cdb884",
   "metadata": {},
   "outputs": [
    {
     "data": {
      "text/plain": [
       "['bing', 'display', 'facebook', 'search', 'youtube']"
      ]
     },
     "execution_count": 12,
     "metadata": {},
     "output_type": "execute_result"
    }
   ],
   "source": [
    "# Create Attribution Dataframe for Subs\n",
    "channel_list = df_channel.index.tolist()\n",
    "channel_list"
   ]
  },
  {
   "cell_type": "code",
   "execution_count": 13,
   "id": "29e74d8a",
   "metadata": {},
   "outputs": [],
   "source": [
    "df_sub_new = df_sub[df_sub['attribution_technical'].isin(channel_list)]"
   ]
  },
  {
   "cell_type": "code",
   "execution_count": 14,
   "id": "b0fe4df0",
   "metadata": {},
   "outputs": [
    {
     "data": {
      "text/plain": [
       "(109023, 31)"
      ]
     },
     "execution_count": 14,
     "metadata": {},
     "output_type": "execute_result"
    }
   ],
   "source": [
    "df_sub_new.shape"
   ]
  },
  {
   "cell_type": "code",
   "execution_count": 15,
   "id": "2f343747",
   "metadata": {},
   "outputs": [
    {
     "data": {
      "text/plain": [
       "facebook    80251\n",
       "search      25306\n",
       "display      1407\n",
       "bing         1146\n",
       "youtube       913\n",
       "Name: attribution_technical, dtype: int64"
      ]
     },
     "execution_count": 15,
     "metadata": {},
     "output_type": "execute_result"
    }
   ],
   "source": [
    "df_sub_new['attribution_technical'].value_counts()"
   ]
  },
  {
   "cell_type": "code",
   "execution_count": 16,
   "id": "018808e0",
   "metadata": {},
   "outputs": [],
   "source": [
    "# Create Attribution Dataframe for Reps\n",
    "sub_list = df_sub_new.subid.tolist()"
   ]
  },
  {
   "cell_type": "code",
   "execution_count": 17,
   "id": "81b1c103",
   "metadata": {},
   "outputs": [],
   "source": [
    "df_rep_new = df_rep[df_rep['subid'].isin(sub_list)]"
   ]
  },
  {
   "cell_type": "code",
   "execution_count": 18,
   "id": "5193c1f7",
   "metadata": {},
   "outputs": [
    {
     "data": {
      "text/plain": [
       "(96154, 13)"
      ]
     },
     "execution_count": 18,
     "metadata": {},
     "output_type": "execute_result"
    }
   ],
   "source": [
    "df_rep_new.shape"
   ]
  },
  {
   "cell_type": "code",
   "execution_count": 19,
   "id": "f234f353",
   "metadata": {},
   "outputs": [],
   "source": [
    "# df_rep is incomplete as the subid in it is smaller than that in df_sub."
   ]
  },
  {
   "cell_type": "code",
   "execution_count": 20,
   "id": "a10f7d8e",
   "metadata": {},
   "outputs": [],
   "source": [
    "# Revenue: Payment Period (X-1) * month price + join fee "
   ]
  },
  {
   "cell_type": "code",
   "execution_count": 21,
   "id": "07e82e4b",
   "metadata": {},
   "outputs": [
    {
     "name": "stderr",
     "output_type": "stream",
     "text": [
      "/Users/jishuoo/opt/anaconda3/lib/python3.8/site-packages/pandas/core/generic.py:5494: SettingWithCopyWarning: \n",
      "A value is trying to be set on a copy of a slice from a DataFrame.\n",
      "Try using .loc[row_indexer,col_indexer] = value instead\n",
      "\n",
      "See the caveats in the documentation: https://pandas.pydata.org/pandas-docs/stable/user_guide/indexing.html#returning-a-view-versus-a-copy\n",
      "  self[name] = value\n",
      "<ipython-input-21-6d8492e3dd55>:2: SettingWithCopyWarning: \n",
      "A value is trying to be set on a copy of a slice from a DataFrame\n",
      "\n",
      "See the caveats in the documentation: https://pandas.pydata.org/pandas-docs/stable/user_guide/indexing.html#returning-a-view-versus-a-copy\n",
      "  df_sub_new['join_fee'][df_sub_new.join_fee < 0] = 0\n",
      "/Users/jishuoo/opt/anaconda3/lib/python3.8/site-packages/pandas/core/series.py:992: SettingWithCopyWarning: \n",
      "A value is trying to be set on a copy of a slice from a DataFrame\n",
      "\n",
      "See the caveats in the documentation: https://pandas.pydata.org/pandas-docs/stable/user_guide/indexing.html#returning-a-view-versus-a-copy\n",
      "  self._where(~key, value, inplace=True)\n"
     ]
    }
   ],
   "source": [
    "df_sub_new.join_fee = df_sub_new.join_fee.fillna(0)\n",
    "df_sub_new['join_fee'][df_sub_new.join_fee < 0] = 0"
   ]
  },
  {
   "cell_type": "code",
   "execution_count": 22,
   "id": "11ad8223",
   "metadata": {
    "scrolled": true
   },
   "outputs": [
    {
     "name": "stderr",
     "output_type": "stream",
     "text": [
      "/Users/jishuoo/opt/anaconda3/lib/python3.8/site-packages/pandas/core/indexing.py:1599: SettingWithCopyWarning: \n",
      "A value is trying to be set on a copy of a slice from a DataFrame.\n",
      "Try using .loc[row_indexer,col_indexer] = value instead\n",
      "\n",
      "See the caveats in the documentation: https://pandas.pydata.org/pandas-docs/stable/user_guide/indexing.html#returning-a-view-versus-a-copy\n",
      "  self.obj[key] = infer_fill_value(value)\n",
      "/Users/jishuoo/opt/anaconda3/lib/python3.8/site-packages/pandas/core/indexing.py:1676: SettingWithCopyWarning: \n",
      "A value is trying to be set on a copy of a slice from a DataFrame.\n",
      "Try using .loc[row_indexer,col_indexer] = value instead\n",
      "\n",
      "See the caveats in the documentation: https://pandas.pydata.org/pandas-docs/stable/user_guide/indexing.html#returning-a-view-versus-a-copy\n",
      "  self._setitem_single_column(ilocs[0], value, pi)\n"
     ]
    }
   ],
   "source": [
    "df_sub_new.loc[df_sub_new['payment_period']==0, 'Total_Revenue'] = df_sub_new['join_fee']"
   ]
  },
  {
   "cell_type": "code",
   "execution_count": 23,
   "id": "cd4edeb8",
   "metadata": {},
   "outputs": [
    {
     "name": "stderr",
     "output_type": "stream",
     "text": [
      "/Users/jishuoo/opt/anaconda3/lib/python3.8/site-packages/pandas/core/indexing.py:1676: SettingWithCopyWarning: \n",
      "A value is trying to be set on a copy of a slice from a DataFrame.\n",
      "Try using .loc[row_indexer,col_indexer] = value instead\n",
      "\n",
      "See the caveats in the documentation: https://pandas.pydata.org/pandas-docs/stable/user_guide/indexing.html#returning-a-view-versus-a-copy\n",
      "  self._setitem_single_column(ilocs[0], value, pi)\n"
     ]
    }
   ],
   "source": [
    "df_sub_new.loc[df_sub_new['payment_period']!=0, 'Total_Revenue'] = df_sub_new['join_fee'] + df_sub_new['monthly_price'] * 4 * (df_sub_new['payment_period'])"
   ]
  },
  {
   "cell_type": "code",
   "execution_count": 24,
   "id": "ca375756",
   "metadata": {},
   "outputs": [],
   "source": [
    "df1 = pd.DataFrame(df_sub_new.groupby('attribution_technical')['Total_Revenue'].sum())\n",
    "df2 = pd.DataFrame(df_sub_new.groupby('attribution_technical')['subid'].count())\n",
    "df3 = pd.DataFrame(df_ad.groupby('channel')['spend_AED'].sum())\n",
    "df4 = pd.DataFrame(df_sub_new.groupby('attribution_technical')['payment_period'].mean())"
   ]
  },
  {
   "cell_type": "code",
   "execution_count": 25,
   "id": "e79724a3",
   "metadata": {},
   "outputs": [
    {
     "data": {
      "text/plain": [
       "facebook    80251\n",
       "search      25306\n",
       "display      1407\n",
       "bing         1146\n",
       "youtube       913\n",
       "Name: attribution_technical, dtype: int64"
      ]
     },
     "execution_count": 25,
     "metadata": {},
     "output_type": "execute_result"
    }
   ],
   "source": [
    "df_sub_new['attribution_technical'].value_counts()"
   ]
  },
  {
   "cell_type": "code",
   "execution_count": 26,
   "id": "9c3afc14",
   "metadata": {},
   "outputs": [
    {
     "data": {
      "text/html": [
       "<div>\n",
       "<style scoped>\n",
       "    .dataframe tbody tr th:only-of-type {\n",
       "        vertical-align: middle;\n",
       "    }\n",
       "\n",
       "    .dataframe tbody tr th {\n",
       "        vertical-align: top;\n",
       "    }\n",
       "\n",
       "    .dataframe thead th {\n",
       "        text-align: right;\n",
       "    }\n",
       "</style>\n",
       "<table border=\"1\" class=\"dataframe\">\n",
       "  <thead>\n",
       "    <tr style=\"text-align: right;\">\n",
       "      <th></th>\n",
       "      <th>Total_Revenue</th>\n",
       "      <th>subid</th>\n",
       "      <th>spend_AED</th>\n",
       "      <th>payment_period</th>\n",
       "    </tr>\n",
       "  </thead>\n",
       "  <tbody>\n",
       "    <tr>\n",
       "      <th>bing</th>\n",
       "      <td>1.451804e+04</td>\n",
       "      <td>1146</td>\n",
       "      <td>10800</td>\n",
       "      <td>0.658813</td>\n",
       "    </tr>\n",
       "    <tr>\n",
       "      <th>display</th>\n",
       "      <td>1.628963e+04</td>\n",
       "      <td>1407</td>\n",
       "      <td>366</td>\n",
       "      <td>0.599858</td>\n",
       "    </tr>\n",
       "    <tr>\n",
       "      <th>facebook</th>\n",
       "      <td>1.149965e+06</td>\n",
       "      <td>80251</td>\n",
       "      <td>113500</td>\n",
       "      <td>0.751368</td>\n",
       "    </tr>\n",
       "    <tr>\n",
       "      <th>search</th>\n",
       "      <td>4.057859e+05</td>\n",
       "      <td>25306</td>\n",
       "      <td>222500</td>\n",
       "      <td>0.839524</td>\n",
       "    </tr>\n",
       "    <tr>\n",
       "      <th>youtube</th>\n",
       "      <td>1.289432e+04</td>\n",
       "      <td>913</td>\n",
       "      <td>8730</td>\n",
       "      <td>0.736035</td>\n",
       "    </tr>\n",
       "  </tbody>\n",
       "</table>\n",
       "</div>"
      ],
      "text/plain": [
       "          Total_Revenue  subid  spend_AED  payment_period\n",
       "bing       1.451804e+04   1146      10800        0.658813\n",
       "display    1.628963e+04   1407        366        0.599858\n",
       "facebook   1.149965e+06  80251     113500        0.751368\n",
       "search     4.057859e+05  25306     222500        0.839524\n",
       "youtube    1.289432e+04    913       8730        0.736035"
      ]
     },
     "execution_count": 26,
     "metadata": {},
     "output_type": "execute_result"
    }
   ],
   "source": [
    "frame = [df1,df2,df3,df4]\n",
    "df5 = pd.concat(frame,axis = 1)\n",
    "df5"
   ]
  },
  {
   "cell_type": "code",
   "execution_count": 27,
   "id": "252cbfbd",
   "metadata": {
    "scrolled": true
   },
   "outputs": [
    {
     "data": {
      "text/html": [
       "<div>\n",
       "<style scoped>\n",
       "    .dataframe tbody tr th:only-of-type {\n",
       "        vertical-align: middle;\n",
       "    }\n",
       "\n",
       "    .dataframe tbody tr th {\n",
       "        vertical-align: top;\n",
       "    }\n",
       "\n",
       "    .dataframe thead th {\n",
       "        text-align: right;\n",
       "    }\n",
       "</style>\n",
       "<table border=\"1\" class=\"dataframe\">\n",
       "  <thead>\n",
       "    <tr style=\"text-align: right;\">\n",
       "      <th></th>\n",
       "      <th>Total_Revenue</th>\n",
       "      <th>subid</th>\n",
       "      <th>spend_AED</th>\n",
       "      <th>payment_period</th>\n",
       "      <th>CAC</th>\n",
       "    </tr>\n",
       "  </thead>\n",
       "  <tbody>\n",
       "    <tr>\n",
       "      <th>bing</th>\n",
       "      <td>1.451804e+04</td>\n",
       "      <td>1146</td>\n",
       "      <td>10800</td>\n",
       "      <td>0.658813</td>\n",
       "      <td>9.424084</td>\n",
       "    </tr>\n",
       "    <tr>\n",
       "      <th>display</th>\n",
       "      <td>1.628963e+04</td>\n",
       "      <td>1407</td>\n",
       "      <td>366</td>\n",
       "      <td>0.599858</td>\n",
       "      <td>0.260128</td>\n",
       "    </tr>\n",
       "    <tr>\n",
       "      <th>facebook</th>\n",
       "      <td>1.149965e+06</td>\n",
       "      <td>80251</td>\n",
       "      <td>113500</td>\n",
       "      <td>0.751368</td>\n",
       "      <td>1.414313</td>\n",
       "    </tr>\n",
       "    <tr>\n",
       "      <th>search</th>\n",
       "      <td>4.057859e+05</td>\n",
       "      <td>25306</td>\n",
       "      <td>222500</td>\n",
       "      <td>0.839524</td>\n",
       "      <td>8.792381</td>\n",
       "    </tr>\n",
       "    <tr>\n",
       "      <th>youtube</th>\n",
       "      <td>1.289432e+04</td>\n",
       "      <td>913</td>\n",
       "      <td>8730</td>\n",
       "      <td>0.736035</td>\n",
       "      <td>9.561884</td>\n",
       "    </tr>\n",
       "  </tbody>\n",
       "</table>\n",
       "</div>"
      ],
      "text/plain": [
       "          Total_Revenue  subid  spend_AED  payment_period       CAC\n",
       "bing       1.451804e+04   1146      10800        0.658813  9.424084\n",
       "display    1.628963e+04   1407        366        0.599858  0.260128\n",
       "facebook   1.149965e+06  80251     113500        0.751368  1.414313\n",
       "search     4.057859e+05  25306     222500        0.839524  8.792381\n",
       "youtube    1.289432e+04    913       8730        0.736035  9.561884"
      ]
     },
     "execution_count": 27,
     "metadata": {},
     "output_type": "execute_result"
    }
   ],
   "source": [
    "df5['CAC'] = df5['spend_AED']/df5['subid']\n",
    "df5"
   ]
  },
  {
   "cell_type": "code",
   "execution_count": 28,
   "id": "3b3f710d",
   "metadata": {},
   "outputs": [
    {
     "data": {
      "text/html": [
       "<div>\n",
       "<style scoped>\n",
       "    .dataframe tbody tr th:only-of-type {\n",
       "        vertical-align: middle;\n",
       "    }\n",
       "\n",
       "    .dataframe tbody tr th {\n",
       "        vertical-align: top;\n",
       "    }\n",
       "\n",
       "    .dataframe thead th {\n",
       "        text-align: right;\n",
       "    }\n",
       "</style>\n",
       "<table border=\"1\" class=\"dataframe\">\n",
       "  <thead>\n",
       "    <tr style=\"text-align: right;\">\n",
       "      <th></th>\n",
       "      <th>Total_Revenue</th>\n",
       "      <th>subid</th>\n",
       "      <th>spend_AED</th>\n",
       "      <th>payment_period</th>\n",
       "      <th>CAC</th>\n",
       "      <th>LTV</th>\n",
       "    </tr>\n",
       "  </thead>\n",
       "  <tbody>\n",
       "    <tr>\n",
       "      <th>bing</th>\n",
       "      <td>1.451804e+04</td>\n",
       "      <td>1146</td>\n",
       "      <td>10800</td>\n",
       "      <td>0.658813</td>\n",
       "      <td>9.424084</td>\n",
       "      <td>12.668449</td>\n",
       "    </tr>\n",
       "    <tr>\n",
       "      <th>display</th>\n",
       "      <td>1.628963e+04</td>\n",
       "      <td>1407</td>\n",
       "      <td>366</td>\n",
       "      <td>0.599858</td>\n",
       "      <td>0.260128</td>\n",
       "      <td>11.577559</td>\n",
       "    </tr>\n",
       "    <tr>\n",
       "      <th>facebook</th>\n",
       "      <td>1.149965e+06</td>\n",
       "      <td>80251</td>\n",
       "      <td>113500</td>\n",
       "      <td>0.751368</td>\n",
       "      <td>1.414313</td>\n",
       "      <td>14.329604</td>\n",
       "    </tr>\n",
       "    <tr>\n",
       "      <th>search</th>\n",
       "      <td>4.057859e+05</td>\n",
       "      <td>25306</td>\n",
       "      <td>222500</td>\n",
       "      <td>0.839524</td>\n",
       "      <td>8.792381</td>\n",
       "      <td>16.035166</td>\n",
       "    </tr>\n",
       "    <tr>\n",
       "      <th>youtube</th>\n",
       "      <td>1.289432e+04</td>\n",
       "      <td>913</td>\n",
       "      <td>8730</td>\n",
       "      <td>0.736035</td>\n",
       "      <td>9.561884</td>\n",
       "      <td>14.123028</td>\n",
       "    </tr>\n",
       "  </tbody>\n",
       "</table>\n",
       "</div>"
      ],
      "text/plain": [
       "          Total_Revenue  subid  spend_AED  payment_period       CAC        LTV\n",
       "bing       1.451804e+04   1146      10800        0.658813  9.424084  12.668449\n",
       "display    1.628963e+04   1407        366        0.599858  0.260128  11.577559\n",
       "facebook   1.149965e+06  80251     113500        0.751368  1.414313  14.329604\n",
       "search     4.057859e+05  25306     222500        0.839524  8.792381  16.035166\n",
       "youtube    1.289432e+04    913       8730        0.736035  9.561884  14.123028"
      ]
     },
     "execution_count": 28,
     "metadata": {},
     "output_type": "execute_result"
    }
   ],
   "source": [
    "df5['LTV'] = df5['Total_Revenue']/df5['subid']\n",
    "df5"
   ]
  },
  {
   "cell_type": "code",
   "execution_count": 29,
   "id": "e9b2ce40",
   "metadata": {},
   "outputs": [],
   "source": [
    "df5['ROI'] = df5['LTV']/df5['CAC']\n",
    "df5.to_excel('df5.xlsx')"
   ]
  },
  {
   "cell_type": "markdown",
   "id": "ac4d48cb",
   "metadata": {},
   "source": [
    "# A/B Testing"
   ]
  },
  {
   "cell_type": "markdown",
   "id": "9454c4d7",
   "metadata": {},
   "source": [
    "Total Revenue"
   ]
  },
  {
   "cell_type": "code",
   "execution_count": 30,
   "id": "cdbcad93",
   "metadata": {},
   "outputs": [
    {
     "name": "stderr",
     "output_type": "stream",
     "text": [
      "<ipython-input-30-3730f8f2e67a>:2: SettingWithCopyWarning: \n",
      "A value is trying to be set on a copy of a slice from a DataFrame\n",
      "\n",
      "See the caveats in the documentation: https://pandas.pydata.org/pandas-docs/stable/user_guide/indexing.html#returning-a-view-versus-a-copy\n",
      "  df_sub['join_fee'][df_sub.join_fee < 0] = 0\n"
     ]
    }
   ],
   "source": [
    "df_sub.join_fee = df_sub.join_fee.fillna(0)\n",
    "df_sub['join_fee'][df_sub.join_fee < 0] = 0\n",
    "df_sub.loc[df_sub['payment_period']==0, 'Total_Revenue'] = df_sub['join_fee']\n",
    "df_sub.loc[df_sub['payment_period']!=0, 'Total_Revenue'] = df_sub['join_fee'] + df_sub['monthly_price'] * 4 * (df_sub['payment_period']-1)"
   ]
  },
  {
   "cell_type": "code",
   "execution_count": 31,
   "id": "add9aed9",
   "metadata": {},
   "outputs": [
    {
     "data": {
      "text/html": [
       "<div>\n",
       "<style scoped>\n",
       "    .dataframe tbody tr th:only-of-type {\n",
       "        vertical-align: middle;\n",
       "    }\n",
       "\n",
       "    .dataframe tbody tr th {\n",
       "        vertical-align: top;\n",
       "    }\n",
       "\n",
       "    .dataframe thead th {\n",
       "        text-align: right;\n",
       "    }\n",
       "</style>\n",
       "<table border=\"1\" class=\"dataframe\">\n",
       "  <thead>\n",
       "    <tr style=\"text-align: right;\">\n",
       "      <th></th>\n",
       "      <th>Unnamed: 0</th>\n",
       "      <th>subid</th>\n",
       "      <th>package_type</th>\n",
       "      <th>num_weekly_services_utilized</th>\n",
       "      <th>preferred_genre</th>\n",
       "      <th>intended_use</th>\n",
       "      <th>weekly_consumption_hour</th>\n",
       "      <th>num_ideal_streaming_services</th>\n",
       "      <th>age</th>\n",
       "      <th>male_TF</th>\n",
       "      <th>country</th>\n",
       "      <th>attribution_technical</th>\n",
       "      <th>attribution_survey</th>\n",
       "      <th>op_sys</th>\n",
       "      <th>months_per_bill_period</th>\n",
       "      <th>plan_type</th>\n",
       "      <th>monthly_price</th>\n",
       "      <th>discount_price</th>\n",
       "      <th>account_creation_date</th>\n",
       "      <th>trial_end_date</th>\n",
       "      <th>initial_credit_card_declined</th>\n",
       "      <th>join_fee</th>\n",
       "      <th>language</th>\n",
       "      <th>payment_type</th>\n",
       "      <th>num_trial_days</th>\n",
       "      <th>current_sub_TF</th>\n",
       "      <th>payment_period</th>\n",
       "      <th>last_payment</th>\n",
       "      <th>next_payment</th>\n",
       "      <th>cancel_date</th>\n",
       "      <th>trial_completed</th>\n",
       "      <th>Total_Revenue</th>\n",
       "    </tr>\n",
       "  </thead>\n",
       "  <tbody>\n",
       "    <tr>\n",
       "      <th>0</th>\n",
       "      <td>162502</td>\n",
       "      <td>21724479</td>\n",
       "      <td>economy</td>\n",
       "      <td>NaN</td>\n",
       "      <td>comedy</td>\n",
       "      <td>access to exclusive content</td>\n",
       "      <td>NaN</td>\n",
       "      <td>NaN</td>\n",
       "      <td>NaN</td>\n",
       "      <td>False</td>\n",
       "      <td>UAE</td>\n",
       "      <td>facebook</td>\n",
       "      <td>facebook</td>\n",
       "      <td>Android</td>\n",
       "      <td>4</td>\n",
       "      <td>base_uae_14_day_trial</td>\n",
       "      <td>4.7343</td>\n",
       "      <td>4.5141</td>\n",
       "      <td>2020-01-24 21:44:16</td>\n",
       "      <td>2020-02-07 21:44:16</td>\n",
       "      <td>False</td>\n",
       "      <td>0.0000</td>\n",
       "      <td>ar</td>\n",
       "      <td>Standard Charter</td>\n",
       "      <td>14</td>\n",
       "      <td>True</td>\n",
       "      <td>1</td>\n",
       "      <td>2020-02-07 21:44:16</td>\n",
       "      <td>2020-06-07 21:44:16</td>\n",
       "      <td>NaN</td>\n",
       "      <td>True</td>\n",
       "      <td>0.0000</td>\n",
       "    </tr>\n",
       "    <tr>\n",
       "      <th>1</th>\n",
       "      <td>380374</td>\n",
       "      <td>23383224</td>\n",
       "      <td>base</td>\n",
       "      <td>NaN</td>\n",
       "      <td>comedy</td>\n",
       "      <td>access to exclusive content</td>\n",
       "      <td>22.951579</td>\n",
       "      <td>NaN</td>\n",
       "      <td>70.0</td>\n",
       "      <td>False</td>\n",
       "      <td>UAE</td>\n",
       "      <td>facebook</td>\n",
       "      <td>facebook</td>\n",
       "      <td>NaN</td>\n",
       "      <td>4</td>\n",
       "      <td>base_uae_14_day_trial</td>\n",
       "      <td>4.7343</td>\n",
       "      <td>4.5141</td>\n",
       "      <td>2020-03-01 15:44:35</td>\n",
       "      <td>2020-03-15 15:44:35</td>\n",
       "      <td>False</td>\n",
       "      <td>0.3303</td>\n",
       "      <td>ar</td>\n",
       "      <td>NaN</td>\n",
       "      <td>14</td>\n",
       "      <td>True</td>\n",
       "      <td>1</td>\n",
       "      <td>2020-03-15 15:44:35</td>\n",
       "      <td>2020-07-15 15:44:35</td>\n",
       "      <td>NaN</td>\n",
       "      <td>True</td>\n",
       "      <td>0.3303</td>\n",
       "    </tr>\n",
       "    <tr>\n",
       "      <th>2</th>\n",
       "      <td>496617</td>\n",
       "      <td>26844789</td>\n",
       "      <td>enhanced</td>\n",
       "      <td>3.0</td>\n",
       "      <td>regional</td>\n",
       "      <td>replace OTT</td>\n",
       "      <td>36.001186</td>\n",
       "      <td>2.0</td>\n",
       "      <td>25.0</td>\n",
       "      <td>True</td>\n",
       "      <td>UAE</td>\n",
       "      <td>organic</td>\n",
       "      <td>facebook</td>\n",
       "      <td>iOS</td>\n",
       "      <td>4</td>\n",
       "      <td>base_uae_14_day_trial</td>\n",
       "      <td>4.7343</td>\n",
       "      <td>4.5141</td>\n",
       "      <td>2019-12-07 16:37:06</td>\n",
       "      <td>2019-12-21 16:37:06</td>\n",
       "      <td>False</td>\n",
       "      <td>0.1101</td>\n",
       "      <td>ar</td>\n",
       "      <td>NaN</td>\n",
       "      <td>14</td>\n",
       "      <td>False</td>\n",
       "      <td>0</td>\n",
       "      <td>NaN</td>\n",
       "      <td>NaN</td>\n",
       "      <td>NaN</td>\n",
       "      <td>True</td>\n",
       "      <td>0.1101</td>\n",
       "    </tr>\n",
       "    <tr>\n",
       "      <th>3</th>\n",
       "      <td>356799</td>\n",
       "      <td>29417030</td>\n",
       "      <td>base</td>\n",
       "      <td>NaN</td>\n",
       "      <td>drama</td>\n",
       "      <td>replace OTT</td>\n",
       "      <td>20.051667</td>\n",
       "      <td>NaN</td>\n",
       "      <td>30.0</td>\n",
       "      <td>False</td>\n",
       "      <td>UAE</td>\n",
       "      <td>search</td>\n",
       "      <td>tv</td>\n",
       "      <td>Android</td>\n",
       "      <td>4</td>\n",
       "      <td>base_uae_14_day_trial</td>\n",
       "      <td>4.7343</td>\n",
       "      <td>4.5141</td>\n",
       "      <td>2020-01-27 16:09:32</td>\n",
       "      <td>2020-02-10 16:09:32</td>\n",
       "      <td>False</td>\n",
       "      <td>0.0367</td>\n",
       "      <td>ar</td>\n",
       "      <td>NaN</td>\n",
       "      <td>14</td>\n",
       "      <td>False</td>\n",
       "      <td>0</td>\n",
       "      <td>NaN</td>\n",
       "      <td>NaN</td>\n",
       "      <td>NaN</td>\n",
       "      <td>True</td>\n",
       "      <td>0.0367</td>\n",
       "    </tr>\n",
       "    <tr>\n",
       "      <th>4</th>\n",
       "      <td>681701</td>\n",
       "      <td>26723159</td>\n",
       "      <td>base</td>\n",
       "      <td>4.0</td>\n",
       "      <td>comedy</td>\n",
       "      <td>replace OTT</td>\n",
       "      <td>22.951579</td>\n",
       "      <td>3.0</td>\n",
       "      <td>28.0</td>\n",
       "      <td>False</td>\n",
       "      <td>UAE</td>\n",
       "      <td>discovery</td>\n",
       "      <td>youtube</td>\n",
       "      <td>iOS</td>\n",
       "      <td>4</td>\n",
       "      <td>base_uae_14_day_trial</td>\n",
       "      <td>4.7343</td>\n",
       "      <td>4.5141</td>\n",
       "      <td>2019-10-05 12:57:07</td>\n",
       "      <td>2019-10-19 12:57:07</td>\n",
       "      <td>False</td>\n",
       "      <td>0.0367</td>\n",
       "      <td>ar</td>\n",
       "      <td>NaN</td>\n",
       "      <td>14</td>\n",
       "      <td>True</td>\n",
       "      <td>2</td>\n",
       "      <td>2020-02-19 12:57:07</td>\n",
       "      <td>2020-06-19 12:57:07</td>\n",
       "      <td>NaN</td>\n",
       "      <td>True</td>\n",
       "      <td>18.9739</td>\n",
       "    </tr>\n",
       "  </tbody>\n",
       "</table>\n",
       "</div>"
      ],
      "text/plain": [
       "   Unnamed: 0     subid package_type  num_weekly_services_utilized  \\\n",
       "0      162502  21724479      economy                           NaN   \n",
       "1      380374  23383224         base                           NaN   \n",
       "2      496617  26844789     enhanced                           3.0   \n",
       "3      356799  29417030         base                           NaN   \n",
       "4      681701  26723159         base                           4.0   \n",
       "\n",
       "  preferred_genre                 intended_use  weekly_consumption_hour  \\\n",
       "0          comedy  access to exclusive content                      NaN   \n",
       "1          comedy  access to exclusive content                22.951579   \n",
       "2        regional                  replace OTT                36.001186   \n",
       "3           drama                  replace OTT                20.051667   \n",
       "4          comedy                  replace OTT                22.951579   \n",
       "\n",
       "   num_ideal_streaming_services   age male_TF country attribution_technical  \\\n",
       "0                           NaN   NaN   False     UAE              facebook   \n",
       "1                           NaN  70.0   False     UAE              facebook   \n",
       "2                           2.0  25.0    True     UAE               organic   \n",
       "3                           NaN  30.0   False     UAE                search   \n",
       "4                           3.0  28.0   False     UAE             discovery   \n",
       "\n",
       "  attribution_survey   op_sys  months_per_bill_period              plan_type  \\\n",
       "0           facebook  Android                       4  base_uae_14_day_trial   \n",
       "1           facebook      NaN                       4  base_uae_14_day_trial   \n",
       "2           facebook      iOS                       4  base_uae_14_day_trial   \n",
       "3                 tv  Android                       4  base_uae_14_day_trial   \n",
       "4            youtube      iOS                       4  base_uae_14_day_trial   \n",
       "\n",
       "   monthly_price  discount_price account_creation_date       trial_end_date  \\\n",
       "0         4.7343          4.5141   2020-01-24 21:44:16  2020-02-07 21:44:16   \n",
       "1         4.7343          4.5141   2020-03-01 15:44:35  2020-03-15 15:44:35   \n",
       "2         4.7343          4.5141   2019-12-07 16:37:06  2019-12-21 16:37:06   \n",
       "3         4.7343          4.5141   2020-01-27 16:09:32  2020-02-10 16:09:32   \n",
       "4         4.7343          4.5141   2019-10-05 12:57:07  2019-10-19 12:57:07   \n",
       "\n",
       "   initial_credit_card_declined  join_fee language      payment_type  \\\n",
       "0                         False    0.0000       ar  Standard Charter   \n",
       "1                         False    0.3303       ar               NaN   \n",
       "2                         False    0.1101       ar               NaN   \n",
       "3                         False    0.0367       ar               NaN   \n",
       "4                         False    0.0367       ar               NaN   \n",
       "\n",
       "   num_trial_days  current_sub_TF  payment_period         last_payment  \\\n",
       "0              14            True               1  2020-02-07 21:44:16   \n",
       "1              14            True               1  2020-03-15 15:44:35   \n",
       "2              14           False               0                  NaN   \n",
       "3              14           False               0                  NaN   \n",
       "4              14            True               2  2020-02-19 12:57:07   \n",
       "\n",
       "          next_payment cancel_date  trial_completed  Total_Revenue  \n",
       "0  2020-06-07 21:44:16         NaN             True         0.0000  \n",
       "1  2020-07-15 15:44:35         NaN             True         0.3303  \n",
       "2                  NaN         NaN             True         0.1101  \n",
       "3                  NaN         NaN             True         0.0367  \n",
       "4  2020-06-19 12:57:07         NaN             True        18.9739  "
      ]
     },
     "execution_count": 31,
     "metadata": {},
     "output_type": "execute_result"
    }
   ],
   "source": [
    "df_sub.head()"
   ]
  },
  {
   "cell_type": "code",
   "execution_count": 32,
   "id": "01700920",
   "metadata": {
    "scrolled": true
   },
   "outputs": [
    {
     "data": {
      "text/plain": [
       "base_uae_14_day_trial                227096\n",
       "high_uae_14_day_trial                   325\n",
       "low_uae_no_trial                        167\n",
       "base_eur_14_day_trial                    18\n",
       "high_sar_14_day_trial                    12\n",
       "low_gbp_14_day_trial                      4\n",
       "high_aud_14_day_trial                     2\n",
       "high_jpy_14_day_trial                     1\n",
       "low_sar_no_trial                          1\n",
       "low_eur_no_trial                          1\n",
       "base_uae_no_trial_7_day_guarantee         1\n",
       "Name: plan_type, dtype: int64"
      ]
     },
     "execution_count": 32,
     "metadata": {},
     "output_type": "execute_result"
    }
   ],
   "source": [
    "df_sub['plan_type'].value_counts()"
   ]
  },
  {
   "cell_type": "code",
   "execution_count": 33,
   "id": "6a4d3b7a",
   "metadata": {},
   "outputs": [],
   "source": [
    "base_grp = ['base_eur_14_day_trial','base_uae_14_day_trial']\n",
    "high_grp = ['high_uae_14_day_trial','high_sar_14_day_trial','high_jpy_14_day_trial']"
   ]
  },
  {
   "cell_type": "code",
   "execution_count": 34,
   "id": "a08d04f0",
   "metadata": {},
   "outputs": [],
   "source": [
    "df_sub.loc[df_sub['plan_type'].isin(base_grp),'Group'] = 'A'\n",
    "df_sub.loc[df_sub['plan_type'].isin(high_grp),'Group'] = 'B'"
   ]
  },
  {
   "cell_type": "code",
   "execution_count": 35,
   "id": "24361a41",
   "metadata": {},
   "outputs": [
    {
     "data": {
      "text/plain": [
       "A    227114\n",
       "B       338\n",
       "Name: Group, dtype: int64"
      ]
     },
     "execution_count": 35,
     "metadata": {},
     "output_type": "execute_result"
    }
   ],
   "source": [
    "df_sub['Group'].value_counts()"
   ]
  },
  {
   "cell_type": "code",
   "execution_count": 36,
   "id": "f1ffd60a",
   "metadata": {},
   "outputs": [
    {
     "data": {
      "text/plain": [
       "0    95188\n",
       "1    86895\n",
       "2    42712\n",
       "3     2319\n",
       "Name: payment_period, dtype: int64"
      ]
     },
     "execution_count": 36,
     "metadata": {},
     "output_type": "execute_result"
    }
   ],
   "source": [
    "df_sub[df_sub['Group']=='A']['payment_period'].value_counts()"
   ]
  },
  {
   "cell_type": "code",
   "execution_count": 37,
   "id": "ff946137",
   "metadata": {},
   "outputs": [],
   "source": [
    "import scipy.stats as stats \n",
    "import statsmodels.stats.api as sms \n",
    "import matplotlib as mpl \n",
    "import matplotlib.pyplot as plt \n",
    "import seaborn as sns \n",
    "from math import ceil "
   ]
  },
  {
   "cell_type": "code",
   "execution_count": 38,
   "id": "ea1cba96",
   "metadata": {},
   "outputs": [],
   "source": [
    "effect_size = sms.proportion_effectsize(0.20, 0.30) # 根据我们的预期比率计算效应量"
   ]
  },
  {
   "cell_type": "code",
   "execution_count": 39,
   "id": "419026d7",
   "metadata": {},
   "outputs": [
    {
     "name": "stdout",
     "output_type": "stream",
     "text": [
      "291.6886683175625\n"
     ]
    }
   ],
   "source": [
    "required_n = sms.NormalIndPower().solve_power( \n",
    "    effect_size, \n",
    "    power=0.8, \n",
    "    alpha=0.05, \n",
    "    ratio=1 \n",
    "    ) # 计算需要的样本量\n",
    "print(required_n)\n",
    "\n",
    "required_n = 292"
   ]
  },
  {
   "cell_type": "code",
   "execution_count": 40,
   "id": "5268bcb3",
   "metadata": {},
   "outputs": [],
   "source": [
    "control_sample = df_sub[df_sub['Group'] == 'A'].sample(n=required_n, random_state=22) \n",
    "treatment_sample = df_sub[df_sub['Group'] == 'B'].sample(n=required_n, random_state=22) "
   ]
  },
  {
   "cell_type": "code",
   "execution_count": 41,
   "id": "1c8915e2",
   "metadata": {},
   "outputs": [],
   "source": [
    "ab_test = pd.concat([control_sample,treatment_sample],axis=0) \n",
    "ab_test.reset_index(drop=True, inplace=True)"
   ]
  },
  {
   "cell_type": "code",
   "execution_count": 42,
   "id": "d3c0cacf",
   "metadata": {},
   "outputs": [
    {
     "data": {
      "text/html": [
       "<div>\n",
       "<style scoped>\n",
       "    .dataframe tbody tr th:only-of-type {\n",
       "        vertical-align: middle;\n",
       "    }\n",
       "\n",
       "    .dataframe tbody tr th {\n",
       "        vertical-align: top;\n",
       "    }\n",
       "\n",
       "    .dataframe thead th {\n",
       "        text-align: right;\n",
       "    }\n",
       "</style>\n",
       "<table border=\"1\" class=\"dataframe\">\n",
       "  <thead>\n",
       "    <tr style=\"text-align: right;\">\n",
       "      <th></th>\n",
       "      <th>Unnamed: 0</th>\n",
       "      <th>subid</th>\n",
       "      <th>package_type</th>\n",
       "      <th>num_weekly_services_utilized</th>\n",
       "      <th>preferred_genre</th>\n",
       "      <th>intended_use</th>\n",
       "      <th>weekly_consumption_hour</th>\n",
       "      <th>num_ideal_streaming_services</th>\n",
       "      <th>age</th>\n",
       "      <th>male_TF</th>\n",
       "      <th>country</th>\n",
       "      <th>attribution_technical</th>\n",
       "      <th>attribution_survey</th>\n",
       "      <th>op_sys</th>\n",
       "      <th>months_per_bill_period</th>\n",
       "      <th>plan_type</th>\n",
       "      <th>monthly_price</th>\n",
       "      <th>discount_price</th>\n",
       "      <th>account_creation_date</th>\n",
       "      <th>trial_end_date</th>\n",
       "      <th>initial_credit_card_declined</th>\n",
       "      <th>join_fee</th>\n",
       "      <th>language</th>\n",
       "      <th>payment_type</th>\n",
       "      <th>num_trial_days</th>\n",
       "      <th>current_sub_TF</th>\n",
       "      <th>payment_period</th>\n",
       "      <th>last_payment</th>\n",
       "      <th>next_payment</th>\n",
       "      <th>cancel_date</th>\n",
       "      <th>trial_completed</th>\n",
       "      <th>Total_Revenue</th>\n",
       "      <th>Group</th>\n",
       "    </tr>\n",
       "  </thead>\n",
       "  <tbody>\n",
       "    <tr>\n",
       "      <th>0</th>\n",
       "      <td>494972</td>\n",
       "      <td>26958990</td>\n",
       "      <td>economy</td>\n",
       "      <td>2.0</td>\n",
       "      <td>comedy</td>\n",
       "      <td>access to exclusive content</td>\n",
       "      <td>24.401536</td>\n",
       "      <td>2.0</td>\n",
       "      <td>55.0</td>\n",
       "      <td>False</td>\n",
       "      <td>UAE</td>\n",
       "      <td>brand sem intent google</td>\n",
       "      <td>tv</td>\n",
       "      <td>Android</td>\n",
       "      <td>4</td>\n",
       "      <td>base_uae_14_day_trial</td>\n",
       "      <td>4.7343</td>\n",
       "      <td>4.5141</td>\n",
       "      <td>2020-02-06 04:16:35</td>\n",
       "      <td>2020-02-20 04:16:35</td>\n",
       "      <td>False</td>\n",
       "      <td>0.6606</td>\n",
       "      <td>ar</td>\n",
       "      <td>NaN</td>\n",
       "      <td>14</td>\n",
       "      <td>False</td>\n",
       "      <td>0</td>\n",
       "      <td>NaN</td>\n",
       "      <td>NaN</td>\n",
       "      <td>2020-02-13 00:00:00</td>\n",
       "      <td>False</td>\n",
       "      <td>0.6606</td>\n",
       "      <td>A</td>\n",
       "    </tr>\n",
       "    <tr>\n",
       "      <th>1</th>\n",
       "      <td>427663</td>\n",
       "      <td>27134652</td>\n",
       "      <td>economy</td>\n",
       "      <td>3.0</td>\n",
       "      <td>drama</td>\n",
       "      <td>supplement OTT</td>\n",
       "      <td>21.501623</td>\n",
       "      <td>2.0</td>\n",
       "      <td>63.0</td>\n",
       "      <td>False</td>\n",
       "      <td>UAE</td>\n",
       "      <td>email</td>\n",
       "      <td>facebook</td>\n",
       "      <td>iOS</td>\n",
       "      <td>4</td>\n",
       "      <td>base_uae_14_day_trial</td>\n",
       "      <td>4.7343</td>\n",
       "      <td>4.5141</td>\n",
       "      <td>2019-11-18 11:44:29</td>\n",
       "      <td>2019-12-02 11:44:29</td>\n",
       "      <td>False</td>\n",
       "      <td>0.0000</td>\n",
       "      <td>ar</td>\n",
       "      <td>NaN</td>\n",
       "      <td>14</td>\n",
       "      <td>False</td>\n",
       "      <td>0</td>\n",
       "      <td>NaN</td>\n",
       "      <td>NaN</td>\n",
       "      <td>NaN</td>\n",
       "      <td>True</td>\n",
       "      <td>0.0000</td>\n",
       "      <td>A</td>\n",
       "    </tr>\n",
       "    <tr>\n",
       "      <th>2</th>\n",
       "      <td>603893</td>\n",
       "      <td>28393424</td>\n",
       "      <td>enhanced</td>\n",
       "      <td>NaN</td>\n",
       "      <td>comedy</td>\n",
       "      <td>replace OTT</td>\n",
       "      <td>24.401536</td>\n",
       "      <td>NaN</td>\n",
       "      <td>58.0</td>\n",
       "      <td>False</td>\n",
       "      <td>UAE</td>\n",
       "      <td>facebook</td>\n",
       "      <td>facebook</td>\n",
       "      <td>iOS</td>\n",
       "      <td>4</td>\n",
       "      <td>base_uae_14_day_trial</td>\n",
       "      <td>4.7343</td>\n",
       "      <td>4.5141</td>\n",
       "      <td>2019-12-17 12:28:00</td>\n",
       "      <td>2019-12-31 12:28:00</td>\n",
       "      <td>False</td>\n",
       "      <td>0.0367</td>\n",
       "      <td>ar</td>\n",
       "      <td>NaN</td>\n",
       "      <td>14</td>\n",
       "      <td>False</td>\n",
       "      <td>0</td>\n",
       "      <td>NaN</td>\n",
       "      <td>NaN</td>\n",
       "      <td>NaN</td>\n",
       "      <td>True</td>\n",
       "      <td>0.0367</td>\n",
       "      <td>A</td>\n",
       "    </tr>\n",
       "    <tr>\n",
       "      <th>3</th>\n",
       "      <td>146407</td>\n",
       "      <td>23069019</td>\n",
       "      <td>enhanced</td>\n",
       "      <td>2.0</td>\n",
       "      <td>drama</td>\n",
       "      <td>access to exclusive content</td>\n",
       "      <td>20.051667</td>\n",
       "      <td>2.0</td>\n",
       "      <td>52.0</td>\n",
       "      <td>False</td>\n",
       "      <td>UAE</td>\n",
       "      <td>facebook</td>\n",
       "      <td>referral</td>\n",
       "      <td>iOS</td>\n",
       "      <td>4</td>\n",
       "      <td>base_uae_14_day_trial</td>\n",
       "      <td>4.7343</td>\n",
       "      <td>4.5141</td>\n",
       "      <td>2019-11-24 06:02:55</td>\n",
       "      <td>2019-12-08 06:02:55</td>\n",
       "      <td>False</td>\n",
       "      <td>0.0367</td>\n",
       "      <td>ar</td>\n",
       "      <td>Paypal</td>\n",
       "      <td>14</td>\n",
       "      <td>True</td>\n",
       "      <td>1</td>\n",
       "      <td>2019-12-08 06:02:55</td>\n",
       "      <td>2020-04-08 06:02:55</td>\n",
       "      <td>NaN</td>\n",
       "      <td>True</td>\n",
       "      <td>0.0367</td>\n",
       "      <td>A</td>\n",
       "    </tr>\n",
       "    <tr>\n",
       "      <th>4</th>\n",
       "      <td>346146</td>\n",
       "      <td>27425037</td>\n",
       "      <td>base</td>\n",
       "      <td>3.0</td>\n",
       "      <td>comedy</td>\n",
       "      <td>access to exclusive content</td>\n",
       "      <td>31.651317</td>\n",
       "      <td>2.0</td>\n",
       "      <td>51.0</td>\n",
       "      <td>False</td>\n",
       "      <td>UAE</td>\n",
       "      <td>email</td>\n",
       "      <td>facebook</td>\n",
       "      <td>Android</td>\n",
       "      <td>4</td>\n",
       "      <td>base_uae_14_day_trial</td>\n",
       "      <td>4.7343</td>\n",
       "      <td>4.5141</td>\n",
       "      <td>2019-08-16 13:05:28</td>\n",
       "      <td>2019-08-30 13:05:28</td>\n",
       "      <td>False</td>\n",
       "      <td>0.0000</td>\n",
       "      <td>ar</td>\n",
       "      <td>NaN</td>\n",
       "      <td>14</td>\n",
       "      <td>True</td>\n",
       "      <td>2</td>\n",
       "      <td>2019-12-30 13:05:28</td>\n",
       "      <td>2020-04-30 13:05:28</td>\n",
       "      <td>NaN</td>\n",
       "      <td>True</td>\n",
       "      <td>18.9372</td>\n",
       "      <td>A</td>\n",
       "    </tr>\n",
       "  </tbody>\n",
       "</table>\n",
       "</div>"
      ],
      "text/plain": [
       "   Unnamed: 0     subid package_type  num_weekly_services_utilized  \\\n",
       "0      494972  26958990      economy                           2.0   \n",
       "1      427663  27134652      economy                           3.0   \n",
       "2      603893  28393424     enhanced                           NaN   \n",
       "3      146407  23069019     enhanced                           2.0   \n",
       "4      346146  27425037         base                           3.0   \n",
       "\n",
       "  preferred_genre                 intended_use  weekly_consumption_hour  \\\n",
       "0          comedy  access to exclusive content                24.401536   \n",
       "1           drama               supplement OTT                21.501623   \n",
       "2          comedy                  replace OTT                24.401536   \n",
       "3           drama  access to exclusive content                20.051667   \n",
       "4          comedy  access to exclusive content                31.651317   \n",
       "\n",
       "   num_ideal_streaming_services   age male_TF country  \\\n",
       "0                           2.0  55.0   False     UAE   \n",
       "1                           2.0  63.0   False     UAE   \n",
       "2                           NaN  58.0   False     UAE   \n",
       "3                           2.0  52.0   False     UAE   \n",
       "4                           2.0  51.0   False     UAE   \n",
       "\n",
       "     attribution_technical attribution_survey   op_sys  \\\n",
       "0  brand sem intent google                 tv  Android   \n",
       "1                    email           facebook      iOS   \n",
       "2                 facebook           facebook      iOS   \n",
       "3                 facebook           referral      iOS   \n",
       "4                    email           facebook  Android   \n",
       "\n",
       "   months_per_bill_period              plan_type  monthly_price  \\\n",
       "0                       4  base_uae_14_day_trial         4.7343   \n",
       "1                       4  base_uae_14_day_trial         4.7343   \n",
       "2                       4  base_uae_14_day_trial         4.7343   \n",
       "3                       4  base_uae_14_day_trial         4.7343   \n",
       "4                       4  base_uae_14_day_trial         4.7343   \n",
       "\n",
       "   discount_price account_creation_date       trial_end_date  \\\n",
       "0          4.5141   2020-02-06 04:16:35  2020-02-20 04:16:35   \n",
       "1          4.5141   2019-11-18 11:44:29  2019-12-02 11:44:29   \n",
       "2          4.5141   2019-12-17 12:28:00  2019-12-31 12:28:00   \n",
       "3          4.5141   2019-11-24 06:02:55  2019-12-08 06:02:55   \n",
       "4          4.5141   2019-08-16 13:05:28  2019-08-30 13:05:28   \n",
       "\n",
       "   initial_credit_card_declined  join_fee language payment_type  \\\n",
       "0                         False    0.6606       ar          NaN   \n",
       "1                         False    0.0000       ar          NaN   \n",
       "2                         False    0.0367       ar          NaN   \n",
       "3                         False    0.0367       ar       Paypal   \n",
       "4                         False    0.0000       ar          NaN   \n",
       "\n",
       "   num_trial_days  current_sub_TF  payment_period         last_payment  \\\n",
       "0              14           False               0                  NaN   \n",
       "1              14           False               0                  NaN   \n",
       "2              14           False               0                  NaN   \n",
       "3              14            True               1  2019-12-08 06:02:55   \n",
       "4              14            True               2  2019-12-30 13:05:28   \n",
       "\n",
       "          next_payment          cancel_date  trial_completed  Total_Revenue  \\\n",
       "0                  NaN  2020-02-13 00:00:00            False         0.6606   \n",
       "1                  NaN                  NaN             True         0.0000   \n",
       "2                  NaN                  NaN             True         0.0367   \n",
       "3  2020-04-08 06:02:55                  NaN             True         0.0367   \n",
       "4  2020-04-30 13:05:28                  NaN             True        18.9372   \n",
       "\n",
       "  Group  \n",
       "0     A  \n",
       "1     A  \n",
       "2     A  \n",
       "3     A  \n",
       "4     A  "
      ]
     },
     "execution_count": 42,
     "metadata": {},
     "output_type": "execute_result"
    }
   ],
   "source": [
    "ab_test.head()"
   ]
  },
  {
   "cell_type": "markdown",
   "id": "c038c98f",
   "metadata": {},
   "source": [
    "Total Revenue"
   ]
  },
  {
   "cell_type": "code",
   "execution_count": 43,
   "id": "f60e1980",
   "metadata": {},
   "outputs": [
    {
     "data": {
      "text/html": [
       "<style  type=\"text/css\" >\n",
       "</style><table id=\"T_ccdf4_\" ><thead>    <tr>        <th class=\"blank level0\" ></th>        <th class=\"col_heading level0 col0\" >total_revenue</th>        <th class=\"col_heading level0 col1\" >std_deviation</th>        <th class=\"col_heading level0 col2\" >std_error</th>    </tr>    <tr>        <th class=\"index_name level0\" >Group</th>        <th class=\"blank\" ></th>        <th class=\"blank\" ></th>        <th class=\"blank\" ></th>    </tr></thead><tbody>\n",
       "                <tr>\n",
       "                        <th id=\"T_ccdf4_level0_row0\" class=\"row_heading level0 row0\" >A</th>\n",
       "                        <td id=\"T_ccdf4_row0_col0\" class=\"data row0 col0\" >3.855</td>\n",
       "                        <td id=\"T_ccdf4_row0_col1\" class=\"data row0 col1\" >7.999</td>\n",
       "                        <td id=\"T_ccdf4_row0_col2\" class=\"data row0 col2\" >0.468</td>\n",
       "            </tr>\n",
       "            <tr>\n",
       "                        <th id=\"T_ccdf4_level0_row1\" class=\"row_heading level0 row1\" >B</th>\n",
       "                        <td id=\"T_ccdf4_row1_col0\" class=\"data row1 col0\" >10.916</td>\n",
       "                        <td id=\"T_ccdf4_row1_col1\" class=\"data row1 col1\" >10.164</td>\n",
       "                        <td id=\"T_ccdf4_row1_col2\" class=\"data row1 col2\" >0.595</td>\n",
       "            </tr>\n",
       "    </tbody></table>"
      ],
      "text/plain": [
       "<pandas.io.formats.style.Styler at 0x7fac16530820>"
      ]
     },
     "execution_count": 43,
     "metadata": {},
     "output_type": "execute_result"
    }
   ],
   "source": [
    "total_revenue = ab_test.groupby('Group')['Total_Revenue'] \n",
    "\n",
    "std_p = lambda x: np.std(x, ddof=0) # Std. 比例偏差\n",
    "se_p = lambda x: stats.sem(x, ddof=0) # Std. 比例误差 (std / sqrt(n)) \n",
    "\n",
    "total_revenue = total_revenue.agg([np.mean, std_p, se_p]) \n",
    "total_revenue.columns = ['total_revenue', 'std_deviation', 'std_error'] \n",
    "\n",
    "\n",
    "total_revenue.style.format ('{:.3f}')"
   ]
  },
  {
   "cell_type": "code",
   "execution_count": 44,
   "id": "e90526ba",
   "metadata": {},
   "outputs": [],
   "source": [
    "import seaborn as sns"
   ]
  },
  {
   "cell_type": "code",
   "execution_count": 45,
   "id": "77d5c632",
   "metadata": {},
   "outputs": [],
   "source": [
    "import statsmodels.stats.weightstats as st"
   ]
  },
  {
   "cell_type": "code",
   "execution_count": 46,
   "id": "91295684",
   "metadata": {},
   "outputs": [],
   "source": [
    "control_revenue = control_sample[['Group','Total_Revenue']]\n",
    "treat_revenue = treatment_sample[['Group','Total_Revenue']]"
   ]
  },
  {
   "cell_type": "code",
   "execution_count": 47,
   "id": "20f16c90",
   "metadata": {},
   "outputs": [
    {
     "name": "stderr",
     "output_type": "stream",
     "text": [
      "/Users/jishuoo/opt/anaconda3/lib/python3.8/site-packages/seaborn/distributions.py:2557: FutureWarning: `distplot` is a deprecated function and will be removed in a future version. Please adapt your code to use either `displot` (a figure-level function with similar flexibility) or `histplot` (an axes-level function for histograms).\n",
      "  warnings.warn(msg, FutureWarning)\n"
     ]
    },
    {
     "data": {
      "image/png": "[encoded data removed]",
      "text/plain": [
       "<Figure size 432x288 with 1 Axes>"
      ]
     },
     "metadata": {
      "needs_background": "light"
     },
     "output_type": "display_data"
    },
    {
     "name": "stderr",
     "output_type": "stream",
     "text": [
      "/Users/jishuoo/opt/anaconda3/lib/python3.8/site-packages/seaborn/distributions.py:2557: FutureWarning: `distplot` is a deprecated function and will be removed in a future version. Please adapt your code to use either `displot` (a figure-level function with similar flexibility) or `histplot` (an axes-level function for histograms).\n",
      "  warnings.warn(msg, FutureWarning)\n"
     ]
    },
    {
     "data": {
      "image/png": "[encoded data removed]",
      "text/plain": [
       "<Figure size 432x288 with 1 Axes>"
      ]
     },
     "metadata": {
      "needs_background": "light"
     },
     "output_type": "display_data"
    }
   ],
   "source": [
    "#查看数据集分布\n",
    "sns.distplot(control_revenue['Total_Revenue'])\n",
    "plt.title('Group_A')\n",
    "plt.show()\n",
    "\n",
    "sns.distplot(treat_revenue['Total_Revenue'])\n",
    "plt.title('Group_B')\n",
    "plt.show()"
   ]
  },
  {
   "cell_type": "code",
   "execution_count": 48,
   "id": "bf95b701",
   "metadata": {},
   "outputs": [
    {
     "name": "stderr",
     "output_type": "stream",
     "text": [
      "<ipython-input-48-0f11238987c0>:1: SettingWithCopyWarning: \n",
      "A value is trying to be set on a copy of a slice from a DataFrame\n",
      "\n",
      "See the caveats in the documentation: https://pandas.pydata.org/pandas-docs/stable/user_guide/indexing.html#returning-a-view-versus-a-copy\n",
      "  control_revenue.dropna(inplace=True)\n",
      "<ipython-input-48-0f11238987c0>:2: SettingWithCopyWarning: \n",
      "A value is trying to be set on a copy of a slice from a DataFrame\n",
      "\n",
      "See the caveats in the documentation: https://pandas.pydata.org/pandas-docs/stable/user_guide/indexing.html#returning-a-view-versus-a-copy\n",
      "  treat_revenue.dropna(inplace=True)\n"
     ]
    }
   ],
   "source": [
    "control_revenue.dropna(inplace=True)\n",
    "treat_revenue.dropna(inplace=True)"
   ]
  },
  {
   "cell_type": "code",
   "execution_count": 49,
   "id": "1ad26435",
   "metadata": {},
   "outputs": [
    {
     "name": "stdout",
     "output_type": "stream",
     "text": [
      "t= -9.31284395299473 p_twoTail= 2.94019035695214e-19 ,df= 551.5142067488948\n"
     ]
    }
   ],
   "source": [
    "t,p_two,df = st.ttest_ind(control_revenue['Total_Revenue'],treat_revenue['Total_Revenue'],usevar='unequal')\n",
    "print('t=',t,'p_twoTail=',p_two,',df=',df)"
   ]
  },
  {
   "cell_type": "code",
   "execution_count": 50,
   "id": "106810f8",
   "metadata": {},
   "outputs": [
    {
     "name": "stdout",
     "output_type": "stream",
     "text": [
      "Reject H0\n"
     ]
    }
   ],
   "source": [
    "alpha = 0.05\n",
    "if(p_two< alpha/2): \n",
    "    print('Reject H0')\n",
    "else: \n",
    "    print('Accept H0')"
   ]
  },
  {
   "cell_type": "markdown",
   "id": "e19d3302",
   "metadata": {},
   "source": [
    "Payment Period"
   ]
  },
  {
   "cell_type": "code",
   "execution_count": 51,
   "id": "99cec5df",
   "metadata": {},
   "outputs": [
    {
     "data": {
      "text/html": [
       "<style  type=\"text/css\" >\n",
       "</style><table id=\"T_b7420_\" ><thead>    <tr>        <th class=\"blank level0\" ></th>        <th class=\"col_heading level0 col0\" >payment_period</th>        <th class=\"col_heading level0 col1\" >std_deviation</th>        <th class=\"col_heading level0 col2\" >std_error</th>    </tr>    <tr>        <th class=\"index_name level0\" >Group</th>        <th class=\"blank\" ></th>        <th class=\"blank\" ></th>        <th class=\"blank\" ></th>    </tr></thead><tbody>\n",
       "                <tr>\n",
       "                        <th id=\"T_b7420_level0_row0\" class=\"row_heading level0 row0\" >A</th>\n",
       "                        <td id=\"T_b7420_row0_col0\" class=\"data row0 col0\" >0.753</td>\n",
       "                        <td id=\"T_b7420_row0_col1\" class=\"data row0 col1\" >0.777</td>\n",
       "                        <td id=\"T_b7420_row0_col2\" class=\"data row0 col2\" >0.045</td>\n",
       "            </tr>\n",
       "            <tr>\n",
       "                        <th id=\"T_b7420_level0_row1\" class=\"row_heading level0 row1\" >B</th>\n",
       "                        <td id=\"T_b7420_row1_col0\" class=\"data row1 col0\" >1.178</td>\n",
       "                        <td id=\"T_b7420_row1_col1\" class=\"data row1 col1\" >0.927</td>\n",
       "                        <td id=\"T_b7420_row1_col2\" class=\"data row1 col2\" >0.054</td>\n",
       "            </tr>\n",
       "    </tbody></table>"
      ],
      "text/plain": [
       "<pandas.io.formats.style.Styler at 0x7fac190bc6d0>"
      ]
     },
     "execution_count": 51,
     "metadata": {},
     "output_type": "execute_result"
    }
   ],
   "source": [
    "payment = ab_test.groupby('Group')['payment_period'] \n",
    "\n",
    "std_p = lambda x: np.std(x, ddof=0) # Std. 比例偏差\n",
    "se_p = lambda x: stats.sem(x, ddof=0) # Std. 比例误差 (std / sqrt(n)) \n",
    "\n",
    "payment = payment.agg([np.mean, std_p, se_p]) \n",
    "payment.columns = ['payment_period', 'std_deviation', 'std_error'] \n",
    "\n",
    "\n",
    "payment.style.format ('{:.3f}')"
   ]
  },
  {
   "cell_type": "code",
   "execution_count": 52,
   "id": "de9373b4",
   "metadata": {},
   "outputs": [],
   "source": [
    "control_payment = control_sample[['Group','payment_period']]\n",
    "treat_payment = treatment_sample[['Group','payment_period']]"
   ]
  },
  {
   "cell_type": "code",
   "execution_count": 53,
   "id": "0ba3c52a",
   "metadata": {},
   "outputs": [
    {
     "name": "stderr",
     "output_type": "stream",
     "text": [
      "/Users/jishuoo/opt/anaconda3/lib/python3.8/site-packages/seaborn/distributions.py:2557: FutureWarning: `distplot` is a deprecated function and will be removed in a future version. Please adapt your code to use either `displot` (a figure-level function with similar flexibility) or `histplot` (an axes-level function for histograms).\n",
      "  warnings.warn(msg, FutureWarning)\n"
     ]
    },
    {
     "data": {
      "image/png": "[encoded data removed]",
      "text/plain": [
       "<Figure size 432x288 with 1 Axes>"
      ]
     },
     "metadata": {
      "needs_background": "light"
     },
     "output_type": "display_data"
    },
    {
     "name": "stderr",
     "output_type": "stream",
     "text": [
      "/Users/jishuoo/opt/anaconda3/lib/python3.8/site-packages/seaborn/distributions.py:2557: FutureWarning: `distplot` is a deprecated function and will be removed in a future version. Please adapt your code to use either `displot` (a figure-level function with similar flexibility) or `histplot` (an axes-level function for histograms).\n",
      "  warnings.warn(msg, FutureWarning)\n"
     ]
    },
    {
     "data": {
      "image/png": "[encoded data removed]",
      "text/plain": [
       "<Figure size 432x288 with 1 Axes>"
      ]
     },
     "metadata": {
      "needs_background": "light"
     },
     "output_type": "display_data"
    }
   ],
   "source": [
    "#查看数据集分布\n",
    "sns.distplot(control_payment['payment_period'])\n",
    "plt.title('Group_A')\n",
    "plt.show()\n",
    "\n",
    "sns.distplot(treat_payment['payment_period'])\n",
    "plt.title('Group_B')\n",
    "plt.show()"
   ]
  },
  {
   "cell_type": "code",
   "execution_count": 54,
   "id": "6d3b9b9a",
   "metadata": {},
   "outputs": [
    {
     "name": "stderr",
     "output_type": "stream",
     "text": [
      "<ipython-input-54-d1794543138d>:1: SettingWithCopyWarning: \n",
      "A value is trying to be set on a copy of a slice from a DataFrame\n",
      "\n",
      "See the caveats in the documentation: https://pandas.pydata.org/pandas-docs/stable/user_guide/indexing.html#returning-a-view-versus-a-copy\n",
      "  treat_payment.dropna(inplace=True)\n",
      "<ipython-input-54-d1794543138d>:2: SettingWithCopyWarning: \n",
      "A value is trying to be set on a copy of a slice from a DataFrame\n",
      "\n",
      "See the caveats in the documentation: https://pandas.pydata.org/pandas-docs/stable/user_guide/indexing.html#returning-a-view-versus-a-copy\n",
      "  control_payment.dropna(inplace=True)\n"
     ]
    }
   ],
   "source": [
    "treat_payment.dropna(inplace=True)\n",
    "control_payment.dropna(inplace=True)"
   ]
  },
  {
   "cell_type": "code",
   "execution_count": 55,
   "id": "541b96b7",
   "metadata": {},
   "outputs": [
    {
     "name": "stdout",
     "output_type": "stream",
     "text": [
      "t= 5.990592560843116 p_twoTail= 3.7246765124578803e-09 ,df= 564.8087975530442\n"
     ]
    }
   ],
   "source": [
    "t,p_two,df = st.ttest_ind(treat_payment['payment_period'], control_payment['payment_period'],usevar='unequal')\n",
    "print('t=',t,'p_twoTail=',p_two,',df=',df)"
   ]
  },
  {
   "cell_type": "code",
   "execution_count": 56,
   "id": "1ea6c933",
   "metadata": {},
   "outputs": [
    {
     "name": "stdout",
     "output_type": "stream",
     "text": [
      "Reject H0\n"
     ]
    }
   ],
   "source": [
    "alpha = 0.05\n",
    "if(p_two< alpha/2): \n",
    "    print('Reject H0')\n",
    "else: \n",
    "    print('Accept H0')"
   ]
  },
  {
   "cell_type": "markdown",
   "id": "65921f17",
   "metadata": {},
   "source": [
    "Consumption Hour"
   ]
  },
  {
   "cell_type": "code",
   "execution_count": 57,
   "id": "60212fdd",
   "metadata": {
    "scrolled": true
   },
   "outputs": [
    {
     "data": {
      "text/html": [
       "<style  type=\"text/css\" >\n",
       "</style><table id=\"T_d2c80_\" ><thead>    <tr>        <th class=\"blank level0\" ></th>        <th class=\"col_heading level0 col0\" >weekly_consumption_hours</th>        <th class=\"col_heading level0 col1\" >std_deviation</th>        <th class=\"col_heading level0 col2\" >std_error</th>    </tr>    <tr>        <th class=\"index_name level0\" >Group</th>        <th class=\"blank\" ></th>        <th class=\"blank\" ></th>        <th class=\"blank\" ></th>    </tr></thead><tbody>\n",
       "                <tr>\n",
       "                        <th id=\"T_d2c80_level0_row0\" class=\"row_heading level0 row0\" >A</th>\n",
       "                        <td id=\"T_d2c80_row0_col0\" class=\"data row0 col0\" >27.809</td>\n",
       "                        <td id=\"T_d2c80_row0_col1\" class=\"data row0 col1\" >4.719</td>\n",
       "                        <td id=\"T_d2c80_row0_col2\" class=\"data row0 col2\" >nan</td>\n",
       "            </tr>\n",
       "            <tr>\n",
       "                        <th id=\"T_d2c80_level0_row1\" class=\"row_heading level0 row1\" >B</th>\n",
       "                        <td id=\"T_d2c80_row1_col0\" class=\"data row1 col0\" >27.427</td>\n",
       "                        <td id=\"T_d2c80_row1_col1\" class=\"data row1 col1\" >4.563</td>\n",
       "                        <td id=\"T_d2c80_row1_col2\" class=\"data row1 col2\" >nan</td>\n",
       "            </tr>\n",
       "    </tbody></table>"
      ],
      "text/plain": [
       "<pandas.io.formats.style.Styler at 0x7fac192ee430>"
      ]
     },
     "execution_count": 57,
     "metadata": {},
     "output_type": "execute_result"
    }
   ],
   "source": [
    "hours = ab_test.groupby('Group')['weekly_consumption_hour'] \n",
    "\n",
    "std_p = lambda x: np.std(x, ddof=0) # Std. 比例偏差\n",
    "se_p = lambda x: stats.sem(x, ddof=0) # Std. 比例误差 (std / sqrt(n)) \n",
    "\n",
    "hours = hours.agg([np.mean, std_p, se_p]) \n",
    "hours.columns = ['weekly_consumption_hours', 'std_deviation', 'std_error'] \n",
    "\n",
    "\n",
    "hours.style.format ('{:.3f}')"
   ]
  },
  {
   "cell_type": "code",
   "execution_count": 58,
   "id": "80ab748f",
   "metadata": {},
   "outputs": [],
   "source": [
    "control_hours = control_sample[['Group','weekly_consumption_hour']]\n",
    "treat_hours = treatment_sample[['Group','weekly_consumption_hour']]"
   ]
  },
  {
   "cell_type": "code",
   "execution_count": 59,
   "id": "b5e56480",
   "metadata": {},
   "outputs": [
    {
     "name": "stderr",
     "output_type": "stream",
     "text": [
      "/Users/jishuoo/opt/anaconda3/lib/python3.8/site-packages/seaborn/distributions.py:2557: FutureWarning: `distplot` is a deprecated function and will be removed in a future version. Please adapt your code to use either `displot` (a figure-level function with similar flexibility) or `histplot` (an axes-level function for histograms).\n",
      "  warnings.warn(msg, FutureWarning)\n"
     ]
    },
    {
     "data": {
      "image/png": "[encoded data removed]",
      "text/plain": [
       "<Figure size 432x288 with 1 Axes>"
      ]
     },
     "metadata": {
      "needs_background": "light"
     },
     "output_type": "display_data"
    },
    {
     "name": "stderr",
     "output_type": "stream",
     "text": [
      "/Users/jishuoo/opt/anaconda3/lib/python3.8/site-packages/seaborn/distributions.py:2557: FutureWarning: `distplot` is a deprecated function and will be removed in a future version. Please adapt your code to use either `displot` (a figure-level function with similar flexibility) or `histplot` (an axes-level function for histograms).\n",
      "  warnings.warn(msg, FutureWarning)\n"
     ]
    },
    {
     "data": {
      "image/png": "[encoded data removed]",
      "text/plain": [
       "<Figure size 432x288 with 1 Axes>"
      ]
     },
     "metadata": {
      "needs_background": "light"
     },
     "output_type": "display_data"
    }
   ],
   "source": [
    "#查看数据集分布\n",
    "sns.distplot(control_hours['weekly_consumption_hour'])\n",
    "plt.title('Group_A')\n",
    "plt.show()\n",
    "\n",
    "sns.distplot(treat_hours['weekly_consumption_hour'])\n",
    "plt.title('Group_B')\n",
    "plt.show()"
   ]
  },
  {
   "cell_type": "code",
   "execution_count": 60,
   "id": "9ebbbf5c",
   "metadata": {},
   "outputs": [
    {
     "name": "stderr",
     "output_type": "stream",
     "text": [
      "<ipython-input-60-9a704d054ae7>:1: SettingWithCopyWarning: \n",
      "A value is trying to be set on a copy of a slice from a DataFrame\n",
      "\n",
      "See the caveats in the documentation: https://pandas.pydata.org/pandas-docs/stable/user_guide/indexing.html#returning-a-view-versus-a-copy\n",
      "  control_hours.dropna(inplace=True)\n",
      "<ipython-input-60-9a704d054ae7>:2: SettingWithCopyWarning: \n",
      "A value is trying to be set on a copy of a slice from a DataFrame\n",
      "\n",
      "See the caveats in the documentation: https://pandas.pydata.org/pandas-docs/stable/user_guide/indexing.html#returning-a-view-versus-a-copy\n",
      "  treat_hours.dropna(inplace=True)\n"
     ]
    }
   ],
   "source": [
    "control_hours.dropna(inplace=True)\n",
    "treat_hours.dropna(inplace=True)"
   ]
  },
  {
   "cell_type": "code",
   "execution_count": 61,
   "id": "cc0e2828",
   "metadata": {},
   "outputs": [
    {
     "name": "stdout",
     "output_type": "stream",
     "text": [
      "t= 0.9560752691946799 p_twoTail= 0.33946894727250787 ,df= 531.3927161745277\n"
     ]
    }
   ],
   "source": [
    "t,p_two,df = st.ttest_ind(control_hours['weekly_consumption_hour'], treat_hours['weekly_consumption_hour'],usevar='unequal')\n",
    "print('t=',t,'p_twoTail=',p_two,',df=',df)"
   ]
  },
  {
   "cell_type": "code",
   "execution_count": 62,
   "id": "8bb41f80",
   "metadata": {},
   "outputs": [
    {
     "name": "stdout",
     "output_type": "stream",
     "text": [
      "Accept H0\n"
     ]
    }
   ],
   "source": [
    "alpha = 0.05\n",
    "if(p_two< alpha/2): \n",
    "    print('Reject H0')\n",
    "else: \n",
    "    print('Accept H0')"
   ]
  },
  {
   "cell_type": "markdown",
   "id": "22003548",
   "metadata": {},
   "source": [
    "# Churn"
   ]
  },
  {
   "cell_type": "code",
   "execution_count": 63,
   "id": "844789aa",
   "metadata": {},
   "outputs": [],
   "source": [
    "df_sub = pd.read_csv(\"subscribers.csv\")"
   ]
  },
  {
   "cell_type": "code",
   "execution_count": 64,
   "id": "1ce28e11",
   "metadata": {},
   "outputs": [],
   "source": [
    "df_un = df_en.groupby('subid').mean()"
   ]
  },
  {
   "cell_type": "code",
   "execution_count": 65,
   "id": "d1aae093",
   "metadata": {},
   "outputs": [],
   "source": [
    "df_m = pd.merge(df_sub,df_un,on='subid')"
   ]
  },
  {
   "cell_type": "code",
   "execution_count": 66,
   "id": "6e64ddbc",
   "metadata": {
    "scrolled": true
   },
   "outputs": [
    {
     "data": {
      "text/html": [
       "<div>\n",
       "<style scoped>\n",
       "    .dataframe tbody tr th:only-of-type {\n",
       "        vertical-align: middle;\n",
       "    }\n",
       "\n",
       "    .dataframe tbody tr th {\n",
       "        vertical-align: top;\n",
       "    }\n",
       "\n",
       "    .dataframe thead th {\n",
       "        text-align: right;\n",
       "    }\n",
       "</style>\n",
       "<table border=\"1\" class=\"dataframe\">\n",
       "  <thead>\n",
       "    <tr style=\"text-align: right;\">\n",
       "      <th>current_sub_TF</th>\n",
       "      <th>False</th>\n",
       "      <th>True</th>\n",
       "    </tr>\n",
       "    <tr>\n",
       "      <th>trial_completed</th>\n",
       "      <th></th>\n",
       "      <th></th>\n",
       "    </tr>\n",
       "  </thead>\n",
       "  <tbody>\n",
       "    <tr>\n",
       "      <th>False</th>\n",
       "      <td>15901</td>\n",
       "      <td>501</td>\n",
       "    </tr>\n",
       "    <tr>\n",
       "      <th>True</th>\n",
       "      <td>43030</td>\n",
       "      <td>75587</td>\n",
       "    </tr>\n",
       "  </tbody>\n",
       "</table>\n",
       "</div>"
      ],
      "text/plain": [
       "current_sub_TF   False  True \n",
       "trial_completed              \n",
       "False            15901    501\n",
       "True             43030  75587"
      ]
     },
     "execution_count": 66,
     "metadata": {},
     "output_type": "execute_result"
    }
   ],
   "source": [
    "df_m.pivot_table(values = 'subid', columns = 'current_sub_TF', index = 'trial_completed', aggfunc = lambda x: len(x.unique()))"
   ]
  },
  {
   "cell_type": "code",
   "execution_count": 67,
   "id": "0007ca78",
   "metadata": {},
   "outputs": [],
   "source": [
    "# Current_sub_TF = F & Trial_completed = F : Cancel before trial end\n",
    "# Current_sub_TF = F & Trial_completed = T : Churn (lost)\n",
    "# Current_sub_TF = T & Trial_completed = T : Current Customers\n",
    "# Current_sub_TF = T & Trial_completed = F : Cancel before next payment - Churn (about to lose)\n",
    "\n",
    "df_m.loc[(df_m['current_sub_TF'] == False) & (df_m['trial_completed'] == False), 'Churn_TF'] = 1\n",
    "df_m.loc[(df_m['current_sub_TF'] == False) & (df_m['trial_completed'] == True), 'Churn_TF'] = 1\n",
    "df_m.loc[(df_m['current_sub_TF'] == True) & (df_m['trial_completed'] == True), 'Churn_TF'] = 0\n",
    "df_m.loc[(df_m['current_sub_TF'] == True) & (df_m['trial_completed'] == False), 'Churn_TF'] = 1"
   ]
  },
  {
   "cell_type": "code",
   "execution_count": 68,
   "id": "c15a8b3c",
   "metadata": {},
   "outputs": [],
   "source": [
    "df_m.loc[(df_m['male_TF'] == False),'Gender'] = 0\n",
    "df_m.loc[(df_m['male_TF'] == True),'Gender']  = 1"
   ]
  },
  {
   "cell_type": "code",
   "execution_count": 69,
   "id": "64b8588a",
   "metadata": {},
   "outputs": [],
   "source": [
    "columns = ['num_weekly_services_utilized','weekly_consumption_hour','num_ideal_streaming_services','discount_price','join_fee','payment_period_x','app_opens','cust_service_mssgs','num_videos_completed','num_videos_more_than_30_seconds','num_videos_rated','num_series_started','payment_period_y','Churn_TF']"
   ]
  },
  {
   "cell_type": "code",
   "execution_count": 70,
   "id": "615a5565",
   "metadata": {},
   "outputs": [],
   "source": [
    "df_m = df_m[columns]"
   ]
  },
  {
   "cell_type": "code",
   "execution_count": 71,
   "id": "6d58811d",
   "metadata": {},
   "outputs": [
    {
     "data": {
      "text/plain": [
       "num_weekly_services_utilized       54224\n",
       "weekly_consumption_hour            24085\n",
       "num_ideal_streaming_services       55435\n",
       "discount_price                         0\n",
       "join_fee                           22708\n",
       "payment_period_x                       0\n",
       "app_opens                              0\n",
       "cust_service_mssgs                     0\n",
       "num_videos_completed                   0\n",
       "num_videos_more_than_30_seconds        0\n",
       "num_videos_rated                       0\n",
       "num_series_started                     0\n",
       "payment_period_y                       0\n",
       "Churn_TF                               0\n",
       "dtype: int64"
      ]
     },
     "execution_count": 71,
     "metadata": {},
     "output_type": "execute_result"
    }
   ],
   "source": [
    "df_m.isna().sum()"
   ]
  },
  {
   "cell_type": "code",
   "execution_count": 72,
   "id": "4c86ac1e",
   "metadata": {},
   "outputs": [],
   "source": [
    "df_m.dropna(inplace=True)"
   ]
  },
  {
   "cell_type": "code",
   "execution_count": 73,
   "id": "3b9a5702",
   "metadata": {},
   "outputs": [],
   "source": [
    "df_m.drop(columns = \"payment_period_y\",inplace = True)"
   ]
  },
  {
   "cell_type": "code",
   "execution_count": 74,
   "id": "0b37391f",
   "metadata": {},
   "outputs": [
    {
     "data": {
      "text/plain": [
       "0.0    42714\n",
       "1.0    36772\n",
       "Name: Churn_TF, dtype: int64"
      ]
     },
     "execution_count": 74,
     "metadata": {},
     "output_type": "execute_result"
    }
   ],
   "source": [
    "df_m['Churn_TF'].value_counts()"
   ]
  },
  {
   "cell_type": "code",
   "execution_count": 75,
   "id": "037ac3fc",
   "metadata": {},
   "outputs": [
    {
     "data": {
      "text/html": [
       "<div>\n",
       "<style scoped>\n",
       "    .dataframe tbody tr th:only-of-type {\n",
       "        vertical-align: middle;\n",
       "    }\n",
       "\n",
       "    .dataframe tbody tr th {\n",
       "        vertical-align: top;\n",
       "    }\n",
       "\n",
       "    .dataframe thead th {\n",
       "        text-align: right;\n",
       "    }\n",
       "</style>\n",
       "<table border=\"1\" class=\"dataframe\">\n",
       "  <thead>\n",
       "    <tr style=\"text-align: right;\">\n",
       "      <th></th>\n",
       "      <th>num_weekly_services_utilized</th>\n",
       "      <th>weekly_consumption_hour</th>\n",
       "      <th>num_ideal_streaming_services</th>\n",
       "      <th>discount_price</th>\n",
       "      <th>join_fee</th>\n",
       "      <th>payment_period_x</th>\n",
       "      <th>app_opens</th>\n",
       "      <th>cust_service_mssgs</th>\n",
       "      <th>num_videos_completed</th>\n",
       "      <th>num_videos_more_than_30_seconds</th>\n",
       "      <th>num_videos_rated</th>\n",
       "      <th>num_series_started</th>\n",
       "      <th>Churn_TF</th>\n",
       "    </tr>\n",
       "  </thead>\n",
       "  <tbody>\n",
       "    <tr>\n",
       "      <th>0</th>\n",
       "      <td>3.0</td>\n",
       "      <td>36.001186</td>\n",
       "      <td>2.0</td>\n",
       "      <td>4.5141</td>\n",
       "      <td>0.1101</td>\n",
       "      <td>0</td>\n",
       "      <td>1.000000</td>\n",
       "      <td>1.000000</td>\n",
       "      <td>6.500000</td>\n",
       "      <td>6.500000</td>\n",
       "      <td>0.000000</td>\n",
       "      <td>0.500000</td>\n",
       "      <td>1.0</td>\n",
       "    </tr>\n",
       "    <tr>\n",
       "      <th>1</th>\n",
       "      <td>2.0</td>\n",
       "      <td>20.051667</td>\n",
       "      <td>2.0</td>\n",
       "      <td>4.5141</td>\n",
       "      <td>0.3303</td>\n",
       "      <td>1</td>\n",
       "      <td>0.975610</td>\n",
       "      <td>0.414634</td>\n",
       "      <td>4.439024</td>\n",
       "      <td>4.439024</td>\n",
       "      <td>0.146341</td>\n",
       "      <td>0.951220</td>\n",
       "      <td>0.0</td>\n",
       "    </tr>\n",
       "    <tr>\n",
       "      <th>2</th>\n",
       "      <td>3.0</td>\n",
       "      <td>34.551230</td>\n",
       "      <td>2.0</td>\n",
       "      <td>4.5141</td>\n",
       "      <td>0.0000</td>\n",
       "      <td>1</td>\n",
       "      <td>2.260870</td>\n",
       "      <td>0.217391</td>\n",
       "      <td>1.826087</td>\n",
       "      <td>4.478261</td>\n",
       "      <td>0.000000</td>\n",
       "      <td>0.630435</td>\n",
       "      <td>0.0</td>\n",
       "    </tr>\n",
       "    <tr>\n",
       "      <th>5</th>\n",
       "      <td>2.0</td>\n",
       "      <td>28.751405</td>\n",
       "      <td>2.0</td>\n",
       "      <td>4.5141</td>\n",
       "      <td>0.0367</td>\n",
       "      <td>0</td>\n",
       "      <td>2.400000</td>\n",
       "      <td>0.800000</td>\n",
       "      <td>3.600000</td>\n",
       "      <td>4.400000</td>\n",
       "      <td>0.000000</td>\n",
       "      <td>0.600000</td>\n",
       "      <td>1.0</td>\n",
       "    </tr>\n",
       "    <tr>\n",
       "      <th>6</th>\n",
       "      <td>3.0</td>\n",
       "      <td>33.101274</td>\n",
       "      <td>2.0</td>\n",
       "      <td>4.5141</td>\n",
       "      <td>0.0367</td>\n",
       "      <td>0</td>\n",
       "      <td>5.071429</td>\n",
       "      <td>0.428571</td>\n",
       "      <td>3.714286</td>\n",
       "      <td>4.857143</td>\n",
       "      <td>0.000000</td>\n",
       "      <td>0.857143</td>\n",
       "      <td>1.0</td>\n",
       "    </tr>\n",
       "    <tr>\n",
       "      <th>...</th>\n",
       "      <td>...</td>\n",
       "      <td>...</td>\n",
       "      <td>...</td>\n",
       "      <td>...</td>\n",
       "      <td>...</td>\n",
       "      <td>...</td>\n",
       "      <td>...</td>\n",
       "      <td>...</td>\n",
       "      <td>...</td>\n",
       "      <td>...</td>\n",
       "      <td>...</td>\n",
       "      <td>...</td>\n",
       "      <td>...</td>\n",
       "    </tr>\n",
       "    <tr>\n",
       "      <th>135010</th>\n",
       "      <td>4.0</td>\n",
       "      <td>27.301448</td>\n",
       "      <td>2.0</td>\n",
       "      <td>4.5141</td>\n",
       "      <td>0.0000</td>\n",
       "      <td>1</td>\n",
       "      <td>1.000000</td>\n",
       "      <td>0.500000</td>\n",
       "      <td>1.500000</td>\n",
       "      <td>5.500000</td>\n",
       "      <td>0.000000</td>\n",
       "      <td>0.500000</td>\n",
       "      <td>0.0</td>\n",
       "    </tr>\n",
       "    <tr>\n",
       "      <th>135013</th>\n",
       "      <td>3.0</td>\n",
       "      <td>30.201361</td>\n",
       "      <td>2.0</td>\n",
       "      <td>4.5141</td>\n",
       "      <td>0.0000</td>\n",
       "      <td>2</td>\n",
       "      <td>1.500000</td>\n",
       "      <td>2.000000</td>\n",
       "      <td>6.000000</td>\n",
       "      <td>6.500000</td>\n",
       "      <td>0.000000</td>\n",
       "      <td>0.500000</td>\n",
       "      <td>0.0</td>\n",
       "    </tr>\n",
       "    <tr>\n",
       "      <th>135016</th>\n",
       "      <td>2.0</td>\n",
       "      <td>24.401536</td>\n",
       "      <td>2.0</td>\n",
       "      <td>4.5141</td>\n",
       "      <td>0.0000</td>\n",
       "      <td>1</td>\n",
       "      <td>2.583333</td>\n",
       "      <td>0.416667</td>\n",
       "      <td>3.916667</td>\n",
       "      <td>4.916667</td>\n",
       "      <td>0.000000</td>\n",
       "      <td>0.666667</td>\n",
       "      <td>0.0</td>\n",
       "    </tr>\n",
       "    <tr>\n",
       "      <th>135017</th>\n",
       "      <td>3.0</td>\n",
       "      <td>28.751405</td>\n",
       "      <td>2.0</td>\n",
       "      <td>4.5141</td>\n",
       "      <td>0.3303</td>\n",
       "      <td>1</td>\n",
       "      <td>1.777778</td>\n",
       "      <td>0.333333</td>\n",
       "      <td>2.222222</td>\n",
       "      <td>4.000000</td>\n",
       "      <td>0.000000</td>\n",
       "      <td>0.222222</td>\n",
       "      <td>0.0</td>\n",
       "    </tr>\n",
       "    <tr>\n",
       "      <th>135018</th>\n",
       "      <td>2.0</td>\n",
       "      <td>27.301448</td>\n",
       "      <td>2.0</td>\n",
       "      <td>4.5141</td>\n",
       "      <td>0.3303</td>\n",
       "      <td>1</td>\n",
       "      <td>2.666667</td>\n",
       "      <td>0.555556</td>\n",
       "      <td>1.444444</td>\n",
       "      <td>4.518519</td>\n",
       "      <td>0.000000</td>\n",
       "      <td>0.555556</td>\n",
       "      <td>0.0</td>\n",
       "    </tr>\n",
       "  </tbody>\n",
       "</table>\n",
       "<p>79486 rows × 13 columns</p>\n",
       "</div>"
      ],
      "text/plain": [
       "        num_weekly_services_utilized  weekly_consumption_hour  \\\n",
       "0                                3.0                36.001186   \n",
       "1                                2.0                20.051667   \n",
       "2                                3.0                34.551230   \n",
       "5                                2.0                28.751405   \n",
       "6                                3.0                33.101274   \n",
       "...                              ...                      ...   \n",
       "135010                           4.0                27.301448   \n",
       "135013                           3.0                30.201361   \n",
       "135016                           2.0                24.401536   \n",
       "135017                           3.0                28.751405   \n",
       "135018                           2.0                27.301448   \n",
       "\n",
       "        num_ideal_streaming_services  discount_price  join_fee  \\\n",
       "0                                2.0          4.5141    0.1101   \n",
       "1                                2.0          4.5141    0.3303   \n",
       "2                                2.0          4.5141    0.0000   \n",
       "5                                2.0          4.5141    0.0367   \n",
       "6                                2.0          4.5141    0.0367   \n",
       "...                              ...             ...       ...   \n",
       "135010                           2.0          4.5141    0.0000   \n",
       "135013                           2.0          4.5141    0.0000   \n",
       "135016                           2.0          4.5141    0.0000   \n",
       "135017                           2.0          4.5141    0.3303   \n",
       "135018                           2.0          4.5141    0.3303   \n",
       "\n",
       "        payment_period_x  app_opens  cust_service_mssgs  num_videos_completed  \\\n",
       "0                      0   1.000000            1.000000              6.500000   \n",
       "1                      1   0.975610            0.414634              4.439024   \n",
       "2                      1   2.260870            0.217391              1.826087   \n",
       "5                      0   2.400000            0.800000              3.600000   \n",
       "6                      0   5.071429            0.428571              3.714286   \n",
       "...                  ...        ...                 ...                   ...   \n",
       "135010                 1   1.000000            0.500000              1.500000   \n",
       "135013                 2   1.500000            2.000000              6.000000   \n",
       "135016                 1   2.583333            0.416667              3.916667   \n",
       "135017                 1   1.777778            0.333333              2.222222   \n",
       "135018                 1   2.666667            0.555556              1.444444   \n",
       "\n",
       "        num_videos_more_than_30_seconds  num_videos_rated  num_series_started  \\\n",
       "0                              6.500000          0.000000            0.500000   \n",
       "1                              4.439024          0.146341            0.951220   \n",
       "2                              4.478261          0.000000            0.630435   \n",
       "5                              4.400000          0.000000            0.600000   \n",
       "6                              4.857143          0.000000            0.857143   \n",
       "...                                 ...               ...                 ...   \n",
       "135010                         5.500000          0.000000            0.500000   \n",
       "135013                         6.500000          0.000000            0.500000   \n",
       "135016                         4.916667          0.000000            0.666667   \n",
       "135017                         4.000000          0.000000            0.222222   \n",
       "135018                         4.518519          0.000000            0.555556   \n",
       "\n",
       "        Churn_TF  \n",
       "0            1.0  \n",
       "1            0.0  \n",
       "2            0.0  \n",
       "5            1.0  \n",
       "6            1.0  \n",
       "...          ...  \n",
       "135010       0.0  \n",
       "135013       0.0  \n",
       "135016       0.0  \n",
       "135017       0.0  \n",
       "135018       0.0  \n",
       "\n",
       "[79486 rows x 13 columns]"
      ]
     },
     "execution_count": 75,
     "metadata": {},
     "output_type": "execute_result"
    }
   ],
   "source": [
    "df_m"
   ]
  },
  {
   "cell_type": "code",
   "execution_count": 76,
   "id": "608266c1",
   "metadata": {},
   "outputs": [],
   "source": [
    "# ----- SPLIT DATA -----\n",
    "df_train, df_test = model_selection.train_test_split(df_m, test_size=0.3)\n",
    "\n",
    "# ----- FIT CHURN MODEL ------\n",
    "y_col_name = 'Churn_TF' # specify which column contains outcome variable y. Needs to be coded as binary True/False or 0/1\n",
    "x_col_name =  ['num_weekly_services_utilized','weekly_consumption_hour','num_ideal_streaming_services','discount_price','join_fee','payment_period_x','app_opens','cust_service_mssgs','num_videos_completed','num_videos_more_than_30_seconds','num_videos_rated','num_series_started']\n",
    "add_constant_TF = True\n",
    "\n",
    "# --- preprocess data for model routine format requirements\n",
    "if add_constant_TF:\n",
    "    x_col_name.append('const')\n",
    "    df_train = sm.add_constant(df_train)\n",
    "    df_test = sm.add_constant(df_test)"
   ]
  },
  {
   "cell_type": "code",
   "execution_count": 77,
   "id": "fccccf83",
   "metadata": {},
   "outputs": [
    {
     "name": "stdout",
     "output_type": "stream",
     "text": [
      "\n",
      "RESULTS OF LOGIT MODEL FITTING\n",
      "\n",
      "                            OLS Regression Results                            \n",
      "==============================================================================\n",
      "Dep. Variable:               Churn_TF   R-squared:                       0.603\n",
      "Model:                            OLS   Adj. R-squared:                  0.603\n",
      "Method:                 Least Squares   F-statistic:                     7036.\n",
      "Date:                Mon, 13 Dec 2021   Prob (F-statistic):               0.00\n",
      "Time:                        20:16:15   Log-Likelihood:                -14548.\n",
      "No. Observations:               55640   AIC:                         2.912e+04\n",
      "Df Residuals:                   55627   BIC:                         2.924e+04\n",
      "Df Model:                          12                                         \n",
      "Covariance Type:            nonrobust                                         \n",
      "===================================================================================================\n",
      "                                      coef    std err          t      P>|t|      [0.025      0.975]\n",
      "---------------------------------------------------------------------------------------------------\n",
      "num_weekly_services_utilized       -0.0331      0.002    -15.134      0.000      -0.037      -0.029\n",
      "weekly_consumption_hour            -0.0023      0.000     -7.347      0.000      -0.003      -0.002\n",
      "num_ideal_streaming_services        0.0194      0.007      2.949      0.003       0.006       0.032\n",
      "discount_price                      0.1596      0.053      2.996      0.003       0.055       0.264\n",
      "join_fee                           -0.5551      0.008    -71.673      0.000      -0.570      -0.540\n",
      "payment_period_x                   -0.4602      0.002   -262.503      0.000      -0.464      -0.457\n",
      "app_opens                          -0.0144      0.001    -16.420      0.000      -0.016      -0.013\n",
      "cust_service_mssgs                 -0.0117      0.003     -3.863      0.000      -0.018      -0.006\n",
      "num_videos_completed               -0.0044      0.001     -3.268      0.001      -0.007      -0.002\n",
      "num_videos_more_than_30_seconds    -0.0126      0.002     -6.941      0.000      -0.016      -0.009\n",
      "num_videos_rated                    0.1571      0.017      9.045      0.000       0.123       0.191\n",
      "num_series_started                  0.0390      0.006      6.195      0.000       0.027       0.051\n",
      "const                               0.3627      0.241      1.504      0.133      -0.110       0.836\n",
      "==============================================================================\n",
      "Omnibus:                      535.548   Durbin-Watson:                   2.017\n",
      "Prob(Omnibus):                  0.000   Jarque-Bera (JB):              698.778\n",
      "Skew:                          -0.150   Prob(JB):                    1.83e-152\n",
      "Kurtosis:                       3.459   Cond. No.                     5.48e+03\n",
      "==============================================================================\n",
      "\n",
      "Notes:\n",
      "[1] Standard Errors assume that the covariance matrix of the errors is correctly specified.\n",
      "[2] The condition number is large, 5.48e+03. This might indicate that there are\n",
      "strong multicollinearity or other numerical problems.\n"
     ]
    }
   ],
   "source": [
    "# --- fit linear probability model\n",
    "lpm_model = sm.OLS(endog=df_train[y_col_name], exog=df_train[x_col_name])\n",
    "lpm_results = lpm_model.fit()\n",
    "print(\"\\nRESULTS OF LOGIT MODEL FITTING\\n\")\n",
    "print(lpm_results.summary())"
   ]
  },
  {
   "cell_type": "code",
   "execution_count": 78,
   "id": "4ec4e7f5",
   "metadata": {},
   "outputs": [
    {
     "name": "stdout",
     "output_type": "stream",
     "text": [
      "Optimization terminated successfully.\n",
      "         Current function value: 0.264929\n",
      "         Iterations 8\n",
      "\n",
      "RESULTS OF LOGIT MODEL FITTING\n",
      "\n",
      "                           Logit Regression Results                           \n",
      "==============================================================================\n",
      "Dep. Variable:               Churn_TF   No. Observations:                55640\n",
      "Model:                          Logit   Df Residuals:                    55627\n",
      "Method:                           MLE   Df Model:                           12\n",
      "Date:                Mon, 13 Dec 2021   Pseudo R-squ.:                  0.6163\n",
      "Time:                        20:16:15   Log-Likelihood:                -14741.\n",
      "converged:                       True   LL-Null:                       -38420.\n",
      "Covariance Type:            nonrobust   LLR p-value:                     0.000\n",
      "===================================================================================================\n",
      "                                      coef    std err          z      P>|z|      [0.025      0.975]\n",
      "---------------------------------------------------------------------------------------------------\n",
      "num_weekly_services_utilized       -0.3530      0.026    -13.753      0.000      -0.403      -0.303\n",
      "weekly_consumption_hour            -0.0161      0.004     -4.582      0.000      -0.023      -0.009\n",
      "num_ideal_streaming_services       -0.1467      0.086     -1.714      0.087      -0.314       0.021\n",
      "discount_price                      2.9644      0.933      3.177      0.001       1.135       4.793\n",
      "join_fee                           -3.6704      0.084    -43.512      0.000      -3.836      -3.505\n",
      "payment_period_x                   -4.1085      0.032   -128.385      0.000      -4.171      -4.046\n",
      "app_opens                          -0.1094      0.010    -11.091      0.000      -0.129      -0.090\n",
      "cust_service_mssgs                 -0.1348      0.034     -3.986      0.000      -0.201      -0.069\n",
      "num_videos_completed               -0.0244      0.015     -1.596      0.111      -0.054       0.006\n",
      "num_videos_more_than_30_seconds    -0.0816      0.021     -3.917      0.000      -0.122      -0.041\n",
      "num_videos_rated                    1.3610      0.205      6.652      0.000       0.960       1.762\n",
      "num_series_started                  0.2281      0.072      3.171      0.002       0.087       0.369\n",
      "const                              -8.1099      4.217     -1.923      0.054     -16.376       0.156\n",
      "===================================================================================================\n"
     ]
    }
   ],
   "source": [
    "# --- fit logistic regression\n",
    "logit_model = sm.Logit(endog=df_train[y_col_name], exog=df_train[x_col_name])\n",
    "logit_results = logit_model.fit()\n",
    "print(\"\\nRESULTS OF LOGIT MODEL FITTING\\n\")\n",
    "print(logit_results.summary())"
   ]
  },
  {
   "cell_type": "code",
   "execution_count": 90,
   "id": "131edeb5",
   "metadata": {},
   "outputs": [],
   "source": [
    "\n",
    "# ------ DEFINE FUNCTIONS -----\n",
    "def apply_offers(df, threshold, base_price, discount_amount, cases, acceptance_rate_churn, acceptance_rate_nonchurn):\n",
    "    df_f = copy.deepcopy(df)\n",
    "\n",
    "    # set offer parameters for all observations\n",
    "    df_f['price_no_offer'] = base_price\n",
    "    df_f.loc[df_f['Churn_TF'] == 1, 'price_no_offer'] = 0  # if the person churns they will pay 0\n",
    "\n",
    "    # determine whether indiviudals accept offer\n",
    "    df_f.loc[df_f['Churn_TF'] == 1, 'accept_offer_prob'] = acceptance_rate_churn  # those who were going to churn are less likely to want the offer than those who were going to stay\n",
    "    df_f.loc[df_f['Churn_TF'] == 0, 'accept_offer_prob'] = acceptance_rate_nonchurn\n",
    "    df_f['would_accept_offer_rand_draw'] = (df_f['random_draws'] < df_f['accept_offer_prob'])  # randomly select the individuals who would accept an offer based on their probability of acceptance\n",
    "    #上面这行不太好理解，其实就是虽然我们用accept_offer_prob来假设了接受offer的概率，但是在程序里机器没法直接用30%的概率来选人，我们要先随机生成random_draws（0到1区间内随机数），来判断这个人会不会接受offer，根据大数定理，最后接受offer的人数从整体来看会接近accept_offer_prob\n",
    "\n",
    "    # make offer under lpm predictions for select threshold\n",
    "    df_f['make_offer_lpm'] = (df_f['prob_churn_lpm'] > threshold)     # predict whether individual will churn or not\n",
    "    df_f['accept_offer_lpm'] = (df_f['make_offer_lpm'] & df_f['would_accept_offer_rand_draw'])\n",
    "    df_f['price_lpm_offer'] = df_f['price_no_offer']  # initialize prices from \"do nothing case\"\n",
    "    df_f.loc[df_f['accept_offer_lpm'], 'price_lpm_offer'] = base_price * (1-discount_amount)    # for those who were both made an offer and would accept, set prices to discounted price\n",
    "\n",
    "    # make offer under logit predictions for select threshold\n",
    "    df_f['make_offer_logit'] = (df_f['prob_churn_logit'] > threshold)     # predict whether individual will churn or not\n",
    "    df_f['accept_offer_logit'] = (df_f['make_offer_logit'] & df_f['would_accept_offer_rand_draw'])\n",
    "    df_f['price_logit_offer'] = df_f['price_no_offer']  # initialize prices from \"do nothing case\"\n",
    "    df_f.loc[df_f['accept_offer_logit'], 'price_logit_offer'] = base_price * (1-discount_amount)    # for those who were both made an offer and would accept, set prices to discounted price\n",
    "\n",
    "    df_impact = pd.DataFrame(index=cases, columns=['subs', 'revenue', 'lift_from_no_offer'])\n",
    "    for c in cases:\n",
    "        df_impact.loc[c, 'subs'] = (df_f['price_' + c] > 0).sum()\n",
    "        df_impact.loc[c, 'revenue'] = df_f['price_' + c].sum()\n",
    "    for c in cases:\n",
    "        df_impact.loc[c, 'lift_from_no_offer'] = df_impact.loc[c, 'revenue'] / df_impact.loc['no_offer', 'revenue'] - 1\n",
    "\n",
    "    return df_f, df_impact\n",
    "\n",
    "\n",
    "def get_gini_info(actual, pred_prob):\n",
    "    # format[[obs0_pred0, obs0_pred1], [obs1_pred0, obs1_pred1]]; rows (i) are observed, columns (j) are predicted\n",
    "    confusion_matrix_list = list()\n",
    "    for t in [x / 100 for x in range(0, 100, 33)]:\n",
    "        pred = [1 if (x > t) else 0 for x in pred_prob]\n",
    "        confusion_matrix_list.append(confusion_matrix(actual, pred))\n",
    "        # confusion_matrix_list.append(model.pred_table(threshold=t))\n",
    "\n",
    "    # create Gini coefficient plots\n",
    "    false_positives = list()\n",
    "    true_positives = list()\n",
    "    for t in confusion_matrix_list:\n",
    "        true_positives.append(t[1, 1])\n",
    "        false_positives.append(t[0, 1])\n",
    "\n",
    "    return confusion_matrix_list, false_positives, true_positives\n",
    "\n",
    "\n"
   ]
  },
  {
   "cell_type": "code",
   "execution_count": 91,
   "id": "ee279051",
   "metadata": {},
   "outputs": [
    {
     "data": {
      "text/plain": [
       "<matplotlib.legend.Legend at 0x7fac03d2f670>"
      ]
     },
     "execution_count": 91,
     "metadata": {},
     "output_type": "execute_result"
    },
    {
     "data": {
      "image/png": "[encoded data removed]",
      "text/plain": [
       "<Figure size 432x288 with 12 Axes>"
      ]
     },
     "metadata": {
      "needs_background": "light"
     },
     "output_type": "display_data"
    }
   ],
   "source": [
    "# ----- EVALUATE MODEL PERFORMANCE -----\n",
    "# --- evaluate model predictions on test set graphically\n",
    "df_test['prob_churn_lpm'] = lpm_results.predict(df_test[x_col_name])\n",
    "df_test['prob_churn_logit'] = logit_results.predict(df_test[x_col_name])\n",
    "\n",
    "# plot predictions vs. data\n",
    "select_plot_coef = [x for x in x_col_name if x != 'const']\n",
    "n_rows = 2\n",
    "n_cols = math.ceil(len(select_plot_coef) / n_rows)\n",
    "fig, axes = plt.subplots(n_rows, n_cols)\n",
    "fig.suptitle('Single factor relationship with churn')\n",
    "for i in range(n_rows):\n",
    "    for j in range(n_cols):\n",
    "        select_coef = select_plot_coef[i * n_cols + j]\n",
    "        axes[i, j].plot(df_test[select_coef], df_test['Churn_TF'], 'k.')\n",
    "        axes[i, j].plot(df_test[select_coef], df_test['prob_churn_lpm'], 'b.')\n",
    "        axes[i, j].plot(df_test[select_coef], df_test['prob_churn_logit'], 'r.')\n",
    "        axes[i, j].set(xlabel=select_coef, ylabel='Churn prob.')\n",
    "fig.legend(labels=['Churn T/F (actual)', 'Linear probability model', 'Logit probability'])"
   ]
  },
  {
   "cell_type": "code",
   "execution_count": 92,
   "id": "36809e47",
   "metadata": {},
   "outputs": [
    {
     "data": {
      "text/plain": [
       "<matplotlib.legend.Legend at 0x7fac165b4c40>"
      ]
     },
     "execution_count": 92,
     "metadata": {},
     "output_type": "execute_result"
    },
    {
     "data": {
      "image/png": "[encoded data removed]",
      "text/plain": [
       "<Figure size 432x288 with 1 Axes>"
      ]
     },
     "metadata": {
      "needs_background": "light"
     },
     "output_type": "display_data"
    }
   ],
   "source": [
    "# compare lpm and logit predictions\n",
    "fig = plt.figure()\n",
    "ax = plt.gca()\n",
    "ax.plot(df_test[['prob_churn_lpm']], df_test[['Churn_TF']], 'k.')\n",
    "ax.plot(df_test[['prob_churn_lpm']], df_test[['prob_churn_logit']], 'r.')\n",
    "plt.ylim(df_test[['prob_churn_lpm', 'prob_churn_logit']].min().min()-.05, df_test[['prob_churn_lpm', 'prob_churn_logit']].max().max()+.05)\n",
    "plt.xlim(ax.get_ylim())\n",
    "plt.title('LPM vs logit predictions')\n",
    "plt.xlabel('Linear Probability Model Prediction')\n",
    "plt.ylabel('Logit Model Prediction')\n",
    "fig.legend(labels=['Churn T/F (actual)', 'Linear probability model', 'Logit probability'])\n"
   ]
  },
  {
   "cell_type": "code",
   "execution_count": 93,
   "id": "10a8b5cb",
   "metadata": {},
   "outputs": [
    {
     "data": {
      "text/plain": [
       "<matplotlib.legend.Legend at 0x7fac0587e160>"
      ]
     },
     "execution_count": 93,
     "metadata": {},
     "output_type": "execute_result"
    },
    {
     "data": {
      "image/png": "[encoded data removed]",
      "text/plain": [
       "<Figure size 432x288 with 1 Axes>"
      ]
     },
     "metadata": {
      "needs_background": "light"
     },
     "output_type": "display_data"
    }
   ],
   "source": [
    "\n",
    "# --- evaluate model predictions using numerical quantification (ROC curves)\n",
    "# make confusion matrices\n",
    "logit_conf_mat, logit_false_positives, logit_true_positives = get_gini_info(df_test['Churn_TF'], df_test['prob_churn_logit'])\n",
    "lpm_conf_mat, lpm_false_positives, lpm_true_positives = get_gini_info(df_test['Churn_TF'], df_test['prob_churn_lpm'])\n",
    "\n",
    "# plot ROC curves\n",
    "fig = plt.figure()\n",
    "ax1 = plt.gca()\n",
    "ax1.plot(lpm_false_positives, lpm_true_positives, 'b-')\n",
    "ax1.plot(logit_false_positives, logit_true_positives, 'r-')\n",
    "plt.title('ROC curves')\n",
    "plt.xlabel('False positives (positive=churn)')\n",
    "plt.ylabel('True positives (positive=churn)')\n",
    "plt.legend(labels=['Linear probability model', 'Logit probability'])"
   ]
  },
  {
   "cell_type": "code",
   "execution_count": 94,
   "id": "3f7803b5",
   "metadata": {},
   "outputs": [
    {
     "data": {
      "text/plain": [
       "array([0.74402547, 0.03316841, 0.20751576, 0.07488866, 0.11574709,\n",
       "       0.53734485, 0.8943437 , 0.8461136 , 0.11496327, 0.76340141])"
      ]
     },
     "execution_count": 94,
     "metadata": {},
     "output_type": "execute_result"
    }
   ],
   "source": [
    "np.random.random(10)"
   ]
  },
  {
   "cell_type": "code",
   "execution_count": 109,
   "id": "991fc27d",
   "metadata": {},
   "outputs": [],
   "source": [
    "\n",
    "# ----- TEST RETENTION OFFER SCENARIOS -----\n",
    "# evaluate the impact of an offer\n",
    "acceptance_rate_nonchurn = 1\n",
    "acceptance_rate_churn = 0.4\n",
    "threshold = 0.7\n",
    "base_price = 4.7343\n",
    "discount_amount = 0.3\n",
    "cases = ['no_offer', 'lpm_offer', 'logit_offer']\n",
    "\n",
    "# draw whether individual would accept an offer or not - assume probability of acceptance is independent of offer attractiveness\n",
    "df_test['random_draws'] = np.random.random(df_test.shape[0])\n",
    "\n",
    "# base assessment\n",
    "df_test, df_impact = apply_offers(df_test, threshold, base_price, discount_amount, cases, acceptance_rate_churn, acceptance_rate_nonchurn)\n",
    "\n",
    "# test sensitivity to thresholds\n",
    "df_lift_threshold = pd.DataFrame(index=range(0, 100, 1), columns=['threshold'] + cases)\n",
    "for t_ind in df_lift_threshold.index:\n",
    "    t_threshold = t_ind / 100\n",
    "    _, t_df_impact = apply_offers(df_test, t_threshold, base_price, discount_amount, cases, acceptance_rate_churn, acceptance_rate_nonchurn)\n",
    "\n",
    "    df_lift_threshold.loc[t_ind, 'threshold'] = t_threshold\n",
    "    df_lift_threshold.loc[t_ind, cases] = t_df_impact.loc[cases, 'lift_from_no_offer']\n",
    "del t_df_impact, t_threshold, t_ind\n",
    "\n",
    "\n",
    "# test sensitivity to offer discount amount\n",
    "df_lift_discount_amount = pd.DataFrame(index=range(0, 100, 1), columns=['discount_amount'] + cases)\n",
    "for t_ind in df_lift_discount_amount.index:\n",
    "    t_discount_amount = t_ind / 100\n",
    "    acceptance_rate_churn = t_discount_amount/2\n",
    "    _, t_df_impact = apply_offers(df_test, threshold, base_price, t_discount_amount, cases, acceptance_rate_churn, acceptance_rate_nonchurn)\n",
    "\n",
    "    df_lift_discount_amount.loc[t_ind, 'discount_amount'] = t_discount_amount\n",
    "    df_lift_discount_amount.loc[t_ind, cases] = t_df_impact.loc[cases, 'lift_from_no_offer']\n",
    "del t_df_impact, t_discount_amount, t_ind\n",
    "\n"
   ]
  },
  {
   "cell_type": "code",
   "execution_count": 98,
   "id": "00e82bc0",
   "metadata": {},
   "outputs": [
    {
     "data": {
      "text/plain": [
       "<matplotlib.legend.Legend at 0x7fac02303d00>"
      ]
     },
     "execution_count": 98,
     "metadata": {},
     "output_type": "execute_result"
    },
    {
     "data": {
      "image/png": "[encoded data removed]",
      "text/plain": [
       "<Figure size 432x288 with 1 Axes>"
      ]
     },
     "metadata": {
      "needs_background": "light"
     },
     "output_type": "display_data"
    }
   ],
   "source": [
    "\n",
    "# --- plot lift curves\n",
    "# Threshold sensitivity\n",
    "fig = plt.figure()\n",
    "ax1 = plt.gca()\n",
    "ax1.plot(df_lift_threshold['threshold'], df_lift_threshold['lpm_offer'], 'b-')\n",
    "ax1.plot(df_lift_threshold['threshold'], df_lift_threshold['logit_offer'], 'r-')\n",
    "plt.title('Lift curves')\n",
    "plt.xlabel('Threshold probability for predicting customer churns')\n",
    "plt.ylabel('Revenue lift from base scenario of making no retention offer')\n",
    "plt.legend(labels=['Linear probability model', 'Logit probability'])\n",
    "\n"
   ]
  },
  {
   "cell_type": "code",
   "execution_count": 110,
   "id": "d8492946",
   "metadata": {},
   "outputs": [
    {
     "data": {
      "text/plain": [
       "<matplotlib.legend.Legend at 0x7fac07237100>"
      ]
     },
     "execution_count": 110,
     "metadata": {},
     "output_type": "execute_result"
    },
    {
     "data": {
      "image/png": "[encoded data removed]",
      "text/plain": [
       "<Figure size 432x288 with 1 Axes>"
      ]
     },
     "metadata": {
      "needs_background": "light"
     },
     "output_type": "display_data"
    }
   ],
   "source": [
    "\n",
    "# Discount amount sensitivity\n",
    "fig = plt.figure()\n",
    "ax1 = plt.gca()\n",
    "ax1.plot(df_lift_discount_amount['discount_amount'], df_lift_discount_amount['lpm_offer'], 'b-')\n",
    "ax1.plot(df_lift_discount_amount['discount_amount'], df_lift_discount_amount['logit_offer'], 'r-')\n",
    "plt.title('Lift curves')\n",
    "plt.xlabel('Offer discount amount')\n",
    "plt.ylabel('Revenue lift from base scenario of making no retention offer')\n",
    "plt.legend(labels=['Linear probability model', 'Logit probability'])\n",
    "\n"
   ]
  }
 ],
 "metadata": {
  "kernelspec": {
   "display_name": "Python 3",
   "language": "python",
   "name": "python3"
  },
  "language_info": {
   "codemirror_mode": {
    "name": "ipython",
    "version": 3
   },
   "file_extension": ".py",
   "mimetype": "text/x-python",
   "name": "python",
   "nbconvert_exporter": "python",
   "pygments_lexer": "ipython3",
   "version": "3.8.8"
  }
 },
 "nbformat": 4,
 "nbformat_minor": 5
}
